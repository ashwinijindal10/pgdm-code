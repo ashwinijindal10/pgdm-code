{
 "cells": [
  {
   "cell_type": "markdown",
   "metadata": {},
   "source": [
    "# listing movies from bollyshare"
   ]
  },
  {
   "cell_type": "code",
   "execution_count": null,
   "metadata": {},
   "outputs": [],
   "source": [
    "import requests, bs4 ,time\n",
    "\n",
    "url ='https://freemoviewap2019.com/hollywood_dub_movie{0}.php'\n",
    "import pandas as pd\n",
    "movieCollections = pd.DataFrame({\n",
    "        'Title' : [] ,\n",
    "        'Url' : []\n",
    "    });\n",
    "\n",
    "\n",
    "def get(url,retry=0):\n",
    "    count =0\n",
    "    while(1):\n",
    "        try:\n",
    "            count +=1\n",
    "            rs = requests.get(url)         \n",
    "            if(rs.status==200 or count >retry):\n",
    "                return rs\n",
    "            else :\n",
    "                raise Exception(\"Status Invalid\")           \n",
    "        except Exception:\n",
    "            # sleep for a bit in case that helps\n",
    "            time.sleep(1)\n",
    "\n",
    "def SearchAllPages():\n",
    "    global movieCollections\n",
    "    global url  \n",
    "    status =200\n",
    "    pageNo =1    \n",
    "    while(pageNo<=1): #status !=404 and\n",
    "        new_url=url.format( 's_'+ str(pageNo) if pageNo>1 else '')\n",
    "        req= get(new_url,2)       \n",
    "        status= req.status_code     \n",
    "        print('{0} with status {1}'.format(new_url,status) )\n",
    "        if(status ==200):\n",
    "            rs = readPage(req.text)\n",
    "            movieCollections =  movieCollections.append( pd.DataFrame(rs))\n",
    "        pageNo+=1\n",
    "        \n",
    "            \n",
    " \n",
    "\n",
    "def readPage(text):\n",
    "        data= bs4.BeautifulSoup(text,'html5lib')\n",
    "        listitems= data.select('.w3_agile_featured_movies > .w3l-movie-gride-agile ')\n",
    "        titles =[item.select_one('.w3l-movie-text a').get_text() for item in listitems]\n",
    "        urls = [item.select_one('.w3l-movie-text a').get('href') for item in listitems]\n",
    "        return { 'Title' : titles , 'Url' : urls };\n",
    "    \n",
    "        \n",
    "        \n",
    "SearchAllPages()\n",
    "\n",
    "movieCollections.to_csv('bollyshare_movies.csv')"
   ]
  },
  {
   "cell_type": "code",
   "execution_count": null,
   "metadata": {},
   "outputs": [],
   "source": []
  }
 ],
 "metadata": {
  "kernelspec": {
   "display_name": "Python 3",
   "language": "python",
   "name": "python3"
  },
  "language_info": {
   "codemirror_mode": {
    "name": "ipython",
    "version": 3
   },
   "file_extension": ".py",
   "mimetype": "text/x-python",
   "name": "python",
   "nbconvert_exporter": "python",
   "pygments_lexer": "ipython3",
   "version": "3.7.6"
  }
 },
 "nbformat": 4,
 "nbformat_minor": 4
}
