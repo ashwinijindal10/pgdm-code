{
 "cells": [
  {
   "cell_type": "code",
   "execution_count": 1,
   "metadata": {},
   "outputs": [
    {
     "name": "stdout",
     "output_type": "stream",
     "text": [
      "Please visit this URL to authorize this application: https://accounts.google.com/o/oauth2/auth?response_type=code&client_id=233696733563-bn230l7i4kmq8ovb31jf0v7af2e8bnht.apps.googleusercontent.com&redirect_uri=urn%3Aietf%3Awg%3Aoauth%3A2.0%3Aoob&scope=https%3A%2F%2Fwww.googleapis.com%2Fauth%2Fyoutube.force-ssl&state=3hUuISNrCCDOIAkMsh2QMdcvnseG4i&prompt=consent&access_type=offline\n",
      "Enter the authorization code: 4/zQHMph1pmLz_9DNR2V3m-kniR_slWaNANsOrxBfObJ2LocvbYA4rjWc\n"
     ]
    }
   ],
   "source": [
    "from apiclient.discovery import build\n",
    "from google_auth_oauthlib.flow import InstalledAppFlow\n",
    "\n",
    "CLIENT_SECRET_FILE = 'client_secret.json'\n",
    "SCOPES = ['https://www.googleapis.com/auth/youtube.force-ssl']\n",
    "\n",
    "flow = InstalledAppFlow.from_client_secrets_file(CLIENT_SECRET_FILE, SCOPES)\n",
    "credentials = flow.run_console()\n",
    "youtube = build('youtube', 'v3', credentials=credentials)\n",
    "\n",
    "\n",
    "#https://www.youtube.com/channel/UCC5hntNsVE7rQRYqqv_ON0g/\n"
   ]
  },
  {
   "cell_type": "code",
   "execution_count": 2,
   "metadata": {},
   "outputs": [],
   "source": [
    "import pandas as pd\n",
    "\n",
    "def show_playlist():\n",
    "    request = youtube.playlists().list(\n",
    "            part=\"snippet,contentDetails\",\n",
    "            mine=True,\n",
    "            maxResults=50,\n",
    "        )\n",
    "    response = request.execute()\n",
    "    v=[{ 'id': item['id'], 'title': item['snippet']['title'] ,'count': item[\"contentDetails\"][\"itemCount\"]} for item in response['items']]\n",
    "    print(v)\n",
    "    return v\n",
    "    \n",
    "\n",
    "def show_videolist_bypage(token):\n",
    "    request = youtube.search().list(\n",
    "        part=\"snippet\",\n",
    "        forMine=True,\n",
    "        type=\"video\",\n",
    "        maxResults=50,\n",
    "        order=\"date\",\n",
    "        pageToken=token\n",
    "    )\n",
    "    response = request.execute()\n",
    "    #print(response)\n",
    "    return response\n",
    "\n",
    "def show_videolist():\n",
    "    data =pd.DataFrame()\n",
    "    count =0\n",
    "    size=50\n",
    "    max=1\n",
    "    nextPageToken =None\n",
    "    while(count*size <= max) :\n",
    "        rs=show_videolist_bypage(nextPageToken)\n",
    "        max=int(rs['pageInfo']['totalResults'])\n",
    "        nextPageToken= rs['nextPageToken']\n",
    "        val=[{'id':d['id']['videoId'], 'title' :d['snippet']['title'] }  for d in rs['items']] \n",
    "        print(len(val),max,nextPageToken)\n",
    "        data=data.append(val)\n",
    "        count+=1\n",
    "    \n",
    "    return data\n",
    "\n",
    "def create_playlist(youtube, title):\n",
    "    request = youtube.playlists().insert(\n",
    "        part=\"snippet,status\",\n",
    "        body={\n",
    "          \"snippet\": {\n",
    "            \"title\": \"ML & AI |\" + title,\n",
    "            \"description\": \"ML & AI |\" + title,\n",
    "            \"tags\": [\n",
    "              \"ML,AI \"          \n",
    "            ],\n",
    "            \"defaultLanguage\": \"en\"\n",
    "          },\n",
    "          \"status\": {\n",
    "            \"privacyStatus\": \"Unlisted\"\n",
    "          }\n",
    "        }\n",
    "    )\n",
    "    response = request.execute()\n",
    "    if(response is not None and 'id' in response) :\n",
    "        print(\"playlist added successfully with id :{0}\".format(response[\"id\"]))\n",
    "    else:\n",
    "          print(\"failed to create playlist \")\n",
    "          print(response)\n",
    "        \n",
    "def add_playlist_item(youtube,playlist_id, playlist_item_id):\n",
    "    request = youtube.playlistItems().insert(\n",
    "        part=\"snippet\",\n",
    "        body={\n",
    "          \"snippet\": {\n",
    "            \"playlistId\": playlist_id,\n",
    "            \"position\": 0,\n",
    "            \"resourceId\": {\n",
    "              \"kind\": \"youtube#video\",\n",
    "              \"videoId\": playlist_item_id\n",
    "            }\n",
    "          }\n",
    "        }\n",
    "    )\n",
    "    response = request.execute()\n",
    "    print(response)\n",
    "\n",
    "def delete_playlist(playlist_id):\n",
    "     request =  youtube.playlists().delete(id=playlist_id)\n",
    "     response = request.execute()\n",
    "     print(response)\n",
    "        "
   ]
  },
  {
   "cell_type": "code",
   "execution_count": 10,
   "metadata": {},
   "outputs": [
    {
     "name": "stdout",
     "output_type": "stream",
     "text": [
      "\n",
      "\n",
      "\n",
      "\n",
      "\n",
      "\n",
      "\n",
      "\n",
      "\n"
     ]
    }
   ],
   "source": [
    "##video listing\n",
    "#rs= show_videolist()\n",
    "#rs.to_csv('youtube_videlist.csv')\n",
    "\n",
    "#add videolist item\n",
    "#add_playlist_item(youtube,\"PL9tQy71sPLeHoB-g1H08J1hR8ZsXWzz7Z\",\"05yT5rR-XsM\")\n",
    "\n",
    "#show playlists\n",
    "#rs= show_playlist()\n",
    "\n",
    "#create playlist\n",
    "\n",
    "#create_playlist(youtube,\"\")\n",
    "\n",
    "#delete_playlist()\n",
    "\n"
   ]
  },
  {
   "cell_type": "code",
   "execution_count": 3,
   "metadata": {},
   "outputs": [
    {
     "name": "stdout",
     "output_type": "stream",
     "text": [
      "Course 0(Pre-program Preparatory Content)|M-2(Data Structures in Python)\n"
     ]
    },
    {
     "ename": "HttpError",
     "evalue": "<HttpError 403 when requesting https://www.googleapis.com/youtube/v3/playlists?part=snippet%2Cstatus&alt=json returned \"The user has created too many playlists recently. Please try the request again later.\">",
     "output_type": "error",
     "traceback": [
      "\u001b[1;31m---------------------------------------------------------------------------\u001b[0m",
      "\u001b[1;31mHttpError\u001b[0m                                 Traceback (most recent call last)",
      "\u001b[1;32m<ipython-input-3-368d80e7d9a8>\u001b[0m in \u001b[0;36m<module>\u001b[1;34m\u001b[0m\n\u001b[0;32m     16\u001b[0m \u001b[1;32mfor\u001b[0m \u001b[0mg\u001b[0m \u001b[1;32min\u001b[0m \u001b[0mdt\u001b[0m\u001b[1;33m:\u001b[0m\u001b[1;33m\u001b[0m\u001b[1;33m\u001b[0m\u001b[0m\n\u001b[0;32m     17\u001b[0m     \u001b[0mprint\u001b[0m\u001b[1;33m(\u001b[0m\u001b[0mg\u001b[0m\u001b[1;33m)\u001b[0m\u001b[1;33m\u001b[0m\u001b[1;33m\u001b[0m\u001b[0m\n\u001b[1;32m---> 18\u001b[1;33m     \u001b[0mcreate_playlist\u001b[0m\u001b[1;33m(\u001b[0m\u001b[0myoutube\u001b[0m\u001b[1;33m,\u001b[0m\u001b[0mg\u001b[0m\u001b[1;33m)\u001b[0m\u001b[1;33m\u001b[0m\u001b[1;33m\u001b[0m\u001b[0m\n\u001b[0m\u001b[0;32m     19\u001b[0m \u001b[1;33m\u001b[0m\u001b[0m\n",
      "\u001b[1;32m<ipython-input-2-47cceb728d0e>\u001b[0m in \u001b[0;36mcreate_playlist\u001b[1;34m(youtube, title)\u001b[0m\n\u001b[0;32m     60\u001b[0m         }\n\u001b[0;32m     61\u001b[0m     )\n\u001b[1;32m---> 62\u001b[1;33m     \u001b[0mresponse\u001b[0m \u001b[1;33m=\u001b[0m \u001b[0mrequest\u001b[0m\u001b[1;33m.\u001b[0m\u001b[0mexecute\u001b[0m\u001b[1;33m(\u001b[0m\u001b[1;33m)\u001b[0m\u001b[1;33m\u001b[0m\u001b[1;33m\u001b[0m\u001b[0m\n\u001b[0m\u001b[0;32m     63\u001b[0m     \u001b[1;32mif\u001b[0m\u001b[1;33m(\u001b[0m\u001b[0mresponse\u001b[0m \u001b[1;32mis\u001b[0m \u001b[1;32mnot\u001b[0m \u001b[1;32mNone\u001b[0m \u001b[1;32mand\u001b[0m \u001b[1;34m'id'\u001b[0m \u001b[1;32min\u001b[0m \u001b[0mresponse\u001b[0m\u001b[1;33m)\u001b[0m \u001b[1;33m:\u001b[0m\u001b[1;33m\u001b[0m\u001b[1;33m\u001b[0m\u001b[0m\n\u001b[0;32m     64\u001b[0m         \u001b[0mprint\u001b[0m\u001b[1;33m(\u001b[0m\u001b[1;34m\"playlist added successfully with id :{0}\"\u001b[0m\u001b[1;33m.\u001b[0m\u001b[0mformat\u001b[0m\u001b[1;33m(\u001b[0m\u001b[0mresponse\u001b[0m\u001b[1;33m[\u001b[0m\u001b[1;34m\"id\"\u001b[0m\u001b[1;33m]\u001b[0m\u001b[1;33m)\u001b[0m\u001b[1;33m)\u001b[0m\u001b[1;33m\u001b[0m\u001b[1;33m\u001b[0m\u001b[0m\n",
      "\u001b[1;32m~\\anaconda3\\lib\\site-packages\\googleapiclient\\_helpers.py\u001b[0m in \u001b[0;36mpositional_wrapper\u001b[1;34m(*args, **kwargs)\u001b[0m\n\u001b[0;32m    132\u001b[0m                 \u001b[1;32melif\u001b[0m \u001b[0mpositional_parameters_enforcement\u001b[0m \u001b[1;33m==\u001b[0m \u001b[0mPOSITIONAL_WARNING\u001b[0m\u001b[1;33m:\u001b[0m\u001b[1;33m\u001b[0m\u001b[1;33m\u001b[0m\u001b[0m\n\u001b[0;32m    133\u001b[0m                     \u001b[0mlogger\u001b[0m\u001b[1;33m.\u001b[0m\u001b[0mwarning\u001b[0m\u001b[1;33m(\u001b[0m\u001b[0mmessage\u001b[0m\u001b[1;33m)\u001b[0m\u001b[1;33m\u001b[0m\u001b[1;33m\u001b[0m\u001b[0m\n\u001b[1;32m--> 134\u001b[1;33m             \u001b[1;32mreturn\u001b[0m \u001b[0mwrapped\u001b[0m\u001b[1;33m(\u001b[0m\u001b[1;33m*\u001b[0m\u001b[0margs\u001b[0m\u001b[1;33m,\u001b[0m \u001b[1;33m**\u001b[0m\u001b[0mkwargs\u001b[0m\u001b[1;33m)\u001b[0m\u001b[1;33m\u001b[0m\u001b[1;33m\u001b[0m\u001b[0m\n\u001b[0m\u001b[0;32m    135\u001b[0m \u001b[1;33m\u001b[0m\u001b[0m\n\u001b[0;32m    136\u001b[0m         \u001b[1;32mreturn\u001b[0m \u001b[0mpositional_wrapper\u001b[0m\u001b[1;33m\u001b[0m\u001b[1;33m\u001b[0m\u001b[0m\n",
      "\u001b[1;32m~\\anaconda3\\lib\\site-packages\\googleapiclient\\http.py\u001b[0m in \u001b[0;36mexecute\u001b[1;34m(self, http, num_retries)\u001b[0m\n\u001b[0;32m    905\u001b[0m             \u001b[0mcallback\u001b[0m\u001b[1;33m(\u001b[0m\u001b[0mresp\u001b[0m\u001b[1;33m)\u001b[0m\u001b[1;33m\u001b[0m\u001b[1;33m\u001b[0m\u001b[0m\n\u001b[0;32m    906\u001b[0m         \u001b[1;32mif\u001b[0m \u001b[0mresp\u001b[0m\u001b[1;33m.\u001b[0m\u001b[0mstatus\u001b[0m \u001b[1;33m>=\u001b[0m \u001b[1;36m300\u001b[0m\u001b[1;33m:\u001b[0m\u001b[1;33m\u001b[0m\u001b[1;33m\u001b[0m\u001b[0m\n\u001b[1;32m--> 907\u001b[1;33m             \u001b[1;32mraise\u001b[0m \u001b[0mHttpError\u001b[0m\u001b[1;33m(\u001b[0m\u001b[0mresp\u001b[0m\u001b[1;33m,\u001b[0m \u001b[0mcontent\u001b[0m\u001b[1;33m,\u001b[0m \u001b[0muri\u001b[0m\u001b[1;33m=\u001b[0m\u001b[0mself\u001b[0m\u001b[1;33m.\u001b[0m\u001b[0muri\u001b[0m\u001b[1;33m)\u001b[0m\u001b[1;33m\u001b[0m\u001b[1;33m\u001b[0m\u001b[0m\n\u001b[0m\u001b[0;32m    908\u001b[0m         \u001b[1;32mreturn\u001b[0m \u001b[0mself\u001b[0m\u001b[1;33m.\u001b[0m\u001b[0mpostproc\u001b[0m\u001b[1;33m(\u001b[0m\u001b[0mresp\u001b[0m\u001b[1;33m,\u001b[0m \u001b[0mcontent\u001b[0m\u001b[1;33m)\u001b[0m\u001b[1;33m\u001b[0m\u001b[1;33m\u001b[0m\u001b[0m\n\u001b[0;32m    909\u001b[0m \u001b[1;33m\u001b[0m\u001b[0m\n",
      "\u001b[1;31mHttpError\u001b[0m: <HttpError 403 when requesting https://www.googleapis.com/youtube/v3/playlists?part=snippet%2Cstatus&alt=json returned \"The user has created too many playlists recently. Please try the request again later.\">"
     ]
    }
   ],
   "source": [
    "import os\n",
    "import pandas as pd\n",
    "\n",
    "def create_playlist_data(fullpath):\n",
    "    filter_extension=\".ts\"\n",
    "    data = [ { 'playlist' : '|'.join(path.split('\\\\')[6:]) , 'file_name':file,  \"path\" : path}  for path, subdirs, files in os.walk(fullpath) for file in files if file.endswith(filter_extension)]\n",
    "    df= pd.DataFrame(data)\n",
    "    df.to_csv('youtube_upload_status.csv')\n",
    "    groups=df.groupby(['playlist'])\n",
    "    return groups.groups.keys()\n",
    "\n",
    "dt=create_playlist_data(r\"C:\\Users\\Ashwini\\Downloads\\PGDM\\Video\")\n",
    "\n",
    "#print(len(dt))\n",
    "\n",
    "for g in dt:\n",
    "    print(g)\n",
    "    create_playlist(youtube,g)\n",
    "    "
   ]
  },
  {
   "cell_type": "code",
   "execution_count": 84,
   "metadata": {},
   "outputs": [
    {
     "name": "stdout",
     "output_type": "stream",
     "text": [
      "PLMCuzyPpc7o50NuMy7cFLSdcfKaiPBHkn Course 0(Pre-program Preparatory Content)|M-7(Advanced SQL)|S-3(Window Functions) 0\n",
      "PLMCuzyPpc7o4uBWi0uIqcql4tgPNdehsk Course 0(Pre-program Preparatory Content)|M-7(Advanced SQL)|S-2(Updating Table) 0\n",
      "PLMCuzyPpc7o7o1PBvbdv5I0n7DsxLAnHA Course 0(Pre-program Preparatory Content)|M-7(Advanced SQL)|S-1(Database design) 0\n",
      "PLMCuzyPpc7o59BGMtTXYJR8TXUo_Qm4of Course 0(Pre-program Preparatory Content)|M-6(Data Analysis using SQL) 0\n",
      "PLMCuzyPpc7o5NurJB2t3IhUFPm4bD9U-2 Course 0(Pre-program Preparatory Content)|M-5(Data Visualisation in Python) 0\n",
      "PLMCuzyPpc7o66c657hhjpg-N3usDKHyp_ Course 0(Pre-program Preparatory Content)|M-3(Python for Data Science)|S-3(Cleaning Data) 0\n",
      "PLMCuzyPpc7o5O92DakZUidSWOxgW8nkmv Course 0(Pre-program Preparatory Content)|M-3(Python for Data Science)|S-2(Panda) 0\n",
      "PLMCuzyPpc7o422cgitVfL_uQcdM1__yaL Course 0(Pre-program Preparatory Content)|M-3(Python for Data Science)|S-1(NumPy) 0\n",
      "PLMCuzyPpc7o7wq4Qp9LN6NKdbY452IIxk Course 0(Pre-program Preparatory Content)|M-2(Data Structures in Python) 0\n"
     ]
    }
   ],
   "source": [
    "show_playlist(youtube)"
   ]
  },
  {
   "cell_type": "code",
   "execution_count": null,
   "metadata": {},
   "outputs": [],
   "source": [
    "from googleapiclient.http import MediaFileUpload\n",
    "\n",
    "\n",
    "def upload_video(youtube,file_path):\n",
    "    request = youtube.videos().insert(\n",
    "        part=\"snippet,status\",\n",
    "        body={\n",
    "          \"snippet\": {\n",
    "            \"categoryId\" :27, #education\n",
    "            \"tags\": \"Machine Learning and AI,API call\", \n",
    "            \"description\": \"\",\n",
    "            \"title\": \"Test video upload.\"\n",
    "          },\n",
    "          \"status\": {\n",
    "            \"privacyStatus\": \"Unlisted\"\n",
    "          }\n",
    "        },\n",
    "        \n",
    "        \n",
    "        media_body=MediaFileUpload(file_path)\n",
    "    )\n",
    "    response = request.execute()\n",
    "    \n",
    "    if response is not None and 'id' in response:\n",
    "          print(\"Video id {0} was successfully uploaded.\".format(response['id']))\n",
    "    else:\n",
    "        print(\"The upload failed with an unexpected response: \"+  file_path)\n",
    "        \n",
    "    #print(response)\n",
    "    #https://developers.google.com/youtube/v3/guides/uploading_a_video"
   ]
  },
  {
   "cell_type": "code",
   "execution_count": null,
   "metadata": {},
   "outputs": [],
   "source": [
    "path=r\"C:\\Users\\Ashwini\\Downloads\\PGDM\\Video\\Course 1\\M-1 (Intro)\\Graphical Models-278020.ts\"\n",
    "\n",
    "#upload_video(youtube,path)"
   ]
  },
  {
   "cell_type": "code",
   "execution_count": null,
   "metadata": {},
   "outputs": [],
   "source": []
  },
  {
   "cell_type": "code",
   "execution_count": null,
   "metadata": {},
   "outputs": [],
   "source": []
  },
  {
   "cell_type": "code",
   "execution_count": null,
   "metadata": {},
   "outputs": [],
   "source": []
  }
 ],
 "metadata": {
  "kernelspec": {
   "display_name": "Python 3",
   "language": "python",
   "name": "python3"
  },
  "language_info": {
   "codemirror_mode": {
    "name": "ipython",
    "version": 3
   },
   "file_extension": ".py",
   "mimetype": "text/x-python",
   "name": "python",
   "nbconvert_exporter": "python",
   "pygments_lexer": "ipython3",
   "version": "3.7.6"
  }
 },
 "nbformat": 4,
 "nbformat_minor": 4
}
