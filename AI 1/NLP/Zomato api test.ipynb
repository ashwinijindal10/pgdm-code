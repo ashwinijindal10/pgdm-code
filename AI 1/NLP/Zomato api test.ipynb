{
 "cells": [
  {
   "cell_type": "code",
   "execution_count": 1,
   "metadata": {},
   "outputs": [],
   "source": [
    "from nltk.wsd import lesk\n",
    "import  nltk\n",
    "from gensim.models import word2vec\n",
    "from gensim.models.word2vec import Word2Vec\n",
    "import numpy as np\n",
    "import matplotlib.pyplot as plt\n",
    "import os "
   ]
  },
  {
   "cell_type": "code",
   "execution_count": 9,
   "metadata": {},
   "outputs": [
    {
     "name": "stdout",
     "output_type": "stream",
     "text": [
      "of a seeker; very near to the object sought\n"
     ]
    }
   ],
   "source": [
    "sentance =\" I am type of person who looks very hot\"\n",
    "\n",
    "rs=lesk(sentance.split(),\"hot\")\n",
    "\n",
    "print(rs.definition())"
   ]
  },
  {
   "cell_type": "code",
   "execution_count": 1,
   "metadata": {},
   "outputs": [],
   "source": []
  },
  {
   "cell_type": "code",
   "execution_count": 12,
   "metadata": {},
   "outputs": [],
   "source": [
    "#sentance parsing \n",
    "\n",
    "sentances = word2vec.Text8Corpus('Corpus/text8') \n",
    "\n",
    "model = Word2Vec(sentances ) \n"
   ]
  },
  {
   "cell_type": "code",
   "execution_count": 16,
   "metadata": {},
   "outputs": [
    {
     "data": {
      "text/plain": [
       "[('cookie', 0.7718267440795898),\n",
       " ('header', 0.749752402305603),\n",
       " ('pointer', 0.724380612373352),\n",
       " ('url', 0.7230896949768066),\n",
       " ('redirect', 0.6874262094497681),\n",
       " ('byte', 0.6823574304580688),\n",
       " ('headers', 0.6800954341888428),\n",
       " ('foo', 0.6783313751220703),\n",
       " ('checksum', 0.6753132939338684),\n",
       " ('packet', 0.6735541820526123)]"
      ]
     },
     "execution_count": 16,
     "metadata": {},
     "output_type": "execute_result"
    }
   ],
   "source": [
    "model.wv.similar_by_word('tag')"
   ]
  },
  {
   "cell_type": "code",
   "execution_count": 1,
   "metadata": {},
   "outputs": [
    {
     "ename": "ModuleNotFoundError",
     "evalue": "No module named 'zomatopy'",
     "output_type": "error",
     "traceback": [
      "\u001b[1;31m---------------------------------------------------------------------------\u001b[0m",
      "\u001b[1;31mModuleNotFoundError\u001b[0m                       Traceback (most recent call last)",
      "\u001b[1;32m<ipython-input-1-4bf62282f822>\u001b[0m in \u001b[0;36m<module>\u001b[1;34m\u001b[0m\n\u001b[0;32m      2\u001b[0m \u001b[1;33m\u001b[0m\u001b[0m\n\u001b[0;32m      3\u001b[0m \u001b[1;32mimport\u001b[0m \u001b[0mpprint\u001b[0m\u001b[1;33m,\u001b[0m \u001b[0mjson\u001b[0m\u001b[1;33m\u001b[0m\u001b[1;33m\u001b[0m\u001b[0m\n\u001b[1;32m----> 4\u001b[1;33m \u001b[1;32mimport\u001b[0m \u001b[0mzomatopy\u001b[0m\u001b[1;33m\u001b[0m\u001b[1;33m\u001b[0m\u001b[0m\n\u001b[0m\u001b[0;32m      5\u001b[0m \u001b[1;33m\u001b[0m\u001b[0m\n\u001b[0;32m      6\u001b[0m \u001b[1;31m# specify location and cuisine\u001b[0m\u001b[1;33m\u001b[0m\u001b[1;33m\u001b[0m\u001b[1;33m\u001b[0m\u001b[0m\n",
      "\u001b[1;31mModuleNotFoundError\u001b[0m: No module named 'zomatopy'"
     ]
    }
   ],
   "source": [
    "# sample code to fetch a list of restaurants using zomatopy\n",
    "\n",
    "import pprint, json\n",
    "import zomatopy\n",
    "\n",
    "# specify location and cuisine\n",
    "loc = 'Bangalore'\n",
    "cuisine = 'Italian'\n",
    "\n",
    "# provide API key and initialise a 'zomato app' object\n",
    "config={ \"user_key\": your_api_key_as_a_string_here}\n",
    "zomato = zomatopy.initialize_app(config)\n",
    "\n",
    "# get_location gets the lat-long coordinates of 'loc'\n",
    "location_detail=zomato.get_location(loc, 1)\n",
    "\n",
    "# store retrieved data as a dict\n",
    "d1 = json.loads(location_detail)\n",
    "\n",
    "# separate lat-long coordinates\n",
    "lat=d1[\"location_suggestions\"][0][\"latitude\"]\n",
    "lon=d1[\"location_suggestions\"][0][\"longitude\"]\n",
    "\n",
    "# cuisines code (used by zomatopy)\n",
    "cuisines_dict={'bakery':5,'chinese':25,'cafe':30,'italian':55,'biryani':7,'north indian':50,'south indian':85}\n",
    "\n",
    "# fetch and print results\n",
    "results=zomato.restaurant_search(\"\", lat, lon, str(cuisines_dict.get(cuisine)), 5)\n",
    "d = json.loads(results)\n",
    "pprint.pprint(d)"
   ]
  }
 ],
 "metadata": {
  "kernelspec": {
   "display_name": "Python 3",
   "language": "python",
   "name": "python3"
  },
  "language_info": {
   "codemirror_mode": {
    "name": "ipython",
    "version": 3
   },
   "file_extension": ".py",
   "mimetype": "text/x-python",
   "name": "python",
   "nbconvert_exporter": "python",
   "pygments_lexer": "ipython3",
   "version": "3.7.6"
  }
 },
 "nbformat": 4,
 "nbformat_minor": 4
}
