{
 "cells": [
  {
   "cell_type": "code",
   "execution_count": 1,
   "metadata": {},
   "outputs": [],
   "source": [
    "from nltk.wsd import lesk\n"
   ]
  },
  {
   "cell_type": "code",
   "execution_count": 9,
   "metadata": {},
   "outputs": [
    {
     "name": "stdout",
     "output_type": "stream",
     "text": [
      "of a seeker; very near to the object sought\n"
     ]
    }
   ],
   "source": [
    "sentance =\" I am type of person who looks very hot\"\n",
    "\n",
    "rs=lesk(sentance.split(),\"hot\")\n",
    "\n",
    "print(rs.definition())"
   ]
  },
  {
   "cell_type": "code",
   "execution_count": 1,
   "metadata": {},
   "outputs": [],
   "source": [
    "import  nltk\n",
    "from gensim.models import word2vec\n",
    "from gensim.models.word2vec import Word2Vec\n",
    "import numpy as np\n",
    "import matplotlib.pyplot as plt\n",
    "import os "
   ]
  },
  {
   "cell_type": "code",
   "execution_count": 12,
   "metadata": {},
   "outputs": [],
   "source": [
    "#sentance parsing \n",
    "\n",
    "sentances = word2vec.Text8Corpus('Corpus/text8') \n",
    "\n",
    "model = Word2Vec(sentances ) \n"
   ]
  },
  {
   "cell_type": "code",
   "execution_count": 16,
   "metadata": {},
   "outputs": [
    {
     "data": {
      "text/plain": [
       "[('cookie', 0.7718267440795898),\n",
       " ('header', 0.749752402305603),\n",
       " ('pointer', 0.724380612373352),\n",
       " ('url', 0.7230896949768066),\n",
       " ('redirect', 0.6874262094497681),\n",
       " ('byte', 0.6823574304580688),\n",
       " ('headers', 0.6800954341888428),\n",
       " ('foo', 0.6783313751220703),\n",
       " ('checksum', 0.6753132939338684),\n",
       " ('packet', 0.6735541820526123)]"
      ]
     },
     "execution_count": 16,
     "metadata": {},
     "output_type": "execute_result"
    }
   ],
   "source": [
    "model.wv.similar_by_word('tag')"
   ]
  }
 ],
 "metadata": {
  "kernelspec": {
   "display_name": "Python 3",
   "language": "python",
   "name": "python3"
  },
  "language_info": {
   "codemirror_mode": {
    "name": "ipython",
    "version": 3
   },
   "file_extension": ".py",
   "mimetype": "text/x-python",
   "name": "python",
   "nbconvert_exporter": "python",
   "pygments_lexer": "ipython3",
   "version": "3.7.6"
  }
 },
 "nbformat": 4,
 "nbformat_minor": 4
}
