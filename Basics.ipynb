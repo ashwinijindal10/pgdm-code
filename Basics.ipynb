{
 "cells": [
  {
   "cell_type": "code",
   "execution_count": 2,
   "metadata": {},
   "outputs": [],
   "source": [
    "import numpy as np "
   ]
  },
  {
   "cell_type": "code",
   "execution_count": 1,
   "metadata": {},
   "outputs": [
    {
     "ename": "NameError",
     "evalue": "name 'np' is not defined",
     "output_type": "error",
     "traceback": [
      "\u001b[1;31m---------------------------------------------------------------------------\u001b[0m",
      "\u001b[1;31mNameError\u001b[0m                                 Traceback (most recent call last)",
      "\u001b[1;32m<ipython-input-1-6acd4168ff0c>\u001b[0m in \u001b[0;36m<module>\u001b[1;34m\u001b[0m\n\u001b[1;32m----> 1\u001b[1;33m \u001b[0marry\u001b[0m\u001b[1;33m=\u001b[0m \u001b[0mnp\u001b[0m\u001b[1;33m.\u001b[0m\u001b[0marange\u001b[0m\u001b[1;33m(\u001b[0m\u001b[1;36m160\u001b[0m\u001b[1;33m)\u001b[0m\u001b[1;33m.\u001b[0m\u001b[0mreshape\u001b[0m\u001b[1;33m(\u001b[0m\u001b[1;36m16\u001b[0m\u001b[1;33m,\u001b[0m\u001b[1;36m10\u001b[0m\u001b[1;33m)\u001b[0m\u001b[1;33m\u001b[0m\u001b[1;33m\u001b[0m\u001b[0m\n\u001b[0m\u001b[0;32m      2\u001b[0m \u001b[0mprint\u001b[0m\u001b[1;33m(\u001b[0m\u001b[0marry\u001b[0m\u001b[1;33m)\u001b[0m\u001b[1;33m\u001b[0m\u001b[1;33m\u001b[0m\u001b[0m\n",
      "\u001b[1;31mNameError\u001b[0m: name 'np' is not defined"
     ]
    }
   ],
   "source": [
    "arry= np.arange(160).reshape(16,10)\n",
    "print(arry)"
   ]
  },
  {
   "cell_type": "code",
   "execution_count": 24,
   "metadata": {},
   "outputs": [
    {
     "name": "stdout",
     "output_type": "stream",
     "text": [
      "[array([ 0,  4,  8, 12]), array([ 1,  5,  9, 13]), array([ 2,  6, 10, 14]), array([ 3,  7, 11, 15])]\n"
     ]
    }
   ],
   "source": [
    "print([arry[:,i] for i in range(4)])"
   ]
  },
  {
   "cell_type": "code",
   "execution_count": 31,
   "metadata": {},
   "outputs": [
    {
     "name": "stdout",
     "output_type": "stream",
     "text": [
      "[[    0     1     4     9    16    25    36    49    64    81]\n",
      " [  100   121   144   169   196   225   256   289   324   361]\n",
      " [  400   441   484   529   576   625   676   729   784   841]\n",
      " [  900   961  1024  1089  1156  1225  1296  1369  1444  1521]\n",
      " [ 1600  1681  1764  1849  1936  2025  2116  2209  2304  2401]\n",
      " [ 2500  2601  2704  2809  2916  3025  3136  3249  3364  3481]\n",
      " [ 3600  3721  3844  3969  4096  4225  4356  4489  4624  4761]\n",
      " [ 4900  5041  5184  5329  5476  5625  5776  5929  6084  6241]\n",
      " [ 6400  6561  6724  6889  7056  7225  7396  7569  7744  7921]\n",
      " [ 8100  8281  8464  8649  8836  9025  9216  9409  9604  9801]\n",
      " [10000 10201 10404 10609 10816 11025 11236 11449 11664 11881]\n",
      " [12100 12321 12544 12769 12996 13225 13456 13689 13924 14161]\n",
      " [14400 14641 14884 15129 15376 15625 15876 16129 16384 16641]\n",
      " [16900 17161 17424 17689 17956 18225 18496 18769 19044 19321]\n",
      " [19600 19881 20164 20449 20736 21025 21316 21609 21904 22201]\n",
      " [22500 22801 23104 23409 23716 24025 24336 24649 24964 25281]]\n"
     ]
    }
   ],
   "source": [
    "v= np.vectorize(lambda x : x**2)\n",
    "print(v(arry))"
   ]
  },
  {
   "cell_type": "code",
   "execution_count": 70,
   "metadata": {},
   "outputs": [
    {
     "name": "stdout",
     "output_type": "stream",
     "text": [
      "https://www.imdb.com/search/title/?title=Dolittle&adult=include&view=simple&count=2&year=2020\n",
      "{'title': 'Dolittle', 'rating': '5.6'}\n"
     ]
    }
   ],
   "source": [
    "##load data from website \n",
    "import requests, bs4 \n",
    "import urllib\n",
    "\n",
    "\n",
    "title = urllib.parse.quote_plus('Dolittle')\n",
    "year=2020\n",
    "url ='https://www.imdb.com/search/title/?title={0}&adult=include&view=simple&count=2&year={1}'.format(title ,year)\n",
    "print(url)\n",
    "data=requests.get(url)\n",
    "\n",
    "data= bs4.BeautifulSoup(data.text,'html5lib')\n",
    "itemDataText= data.select_one('div.lister-item .lister-item-content')\n",
    "\n",
    "src =[ {'title' : itemDataText.select_one('.col-title span.lister-item-header span[title] a')} ]\n",
    "itemData = {'title':.get_text().strip(),\n",
    "            'rating': itemDataText.select_one('.col-imdb-rating').get_text().strip() }  \n",
    "#itemData.update({'Download Full Movie':data.find(lambda tag:tag.name==\"a\" and \"Download Full Movie\" in tag.text).get('href')})\n",
    "#itemData.update({'Download Full HD':data.find(lambda tag:tag.name==\"a\" and \"Download Full HD\" in tag.text).get('href')})\n",
    "print(itemData)\n"
   ]
  },
  {
   "cell_type": "code",
   "execution_count": 5,
   "metadata": {},
   "outputs": [
    {
     "name": "stdout",
     "output_type": "stream",
     "text": [
      "{'rank': 1, 'test': 1, 's': 3} 12 2\n"
     ]
    }
   ],
   "source": [
    "s={'rank':1}\n",
    "\n",
    "s['test']=1\n",
    "s.update({'s':3})\n"
   ]
  },
  {
   "cell_type": "code",
   "execution_count": null,
   "metadata": {},
   "outputs": [],
   "source": [
    "import progressbar\n",
    "from time import sleep\n",
    "bar = progressbar.ProgressBar(maxval=20, \\\n",
    "    widgets=[progressbar.Bar('#', '[', ']'), ' ', progressbar.Percentage()])\n",
    "bar.start()\n",
    "for i in range(20):\n",
    "   print(1)\n",
    "   bar.update(i+1)\n",
    "   \n",
    "bar.finish()"
   ]
  },
  {
   "cell_type": "code",
   "execution_count": null,
   "metadata": {},
   "outputs": [],
   "source": []
  }
 ],
 "metadata": {
  "kernelspec": {
   "display_name": "Python 3",
   "language": "python",
   "name": "python3"
  },
  "language_info": {
   "codemirror_mode": {
    "name": "ipython",
    "version": 3
   },
   "file_extension": ".py",
   "mimetype": "text/x-python",
   "name": "python",
   "nbconvert_exporter": "python",
   "pygments_lexer": "ipython3",
   "version": "3.7.7"
  }
 },
 "nbformat": 4,
 "nbformat_minor": 4
}
