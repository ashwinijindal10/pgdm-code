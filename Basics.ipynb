{
 "cells": [
  {
   "cell_type": "code",
   "execution_count": 6,
   "metadata": {},
   "outputs": [],
   "source": [
    "import numpy as np "
   ]
  },
  {
   "cell_type": "code",
   "execution_count": 26,
   "metadata": {},
   "outputs": [
    {
     "name": "stdout",
     "output_type": "stream",
     "text": [
      "[[  0   1   2   3   4   5   6   7   8   9]\n",
      " [ 10  11  12  13  14  15  16  17  18  19]\n",
      " [ 20  21  22  23  24  25  26  27  28  29]\n",
      " [ 30  31  32  33  34  35  36  37  38  39]\n",
      " [ 40  41  42  43  44  45  46  47  48  49]\n",
      " [ 50  51  52  53  54  55  56  57  58  59]\n",
      " [ 60  61  62  63  64  65  66  67  68  69]\n",
      " [ 70  71  72  73  74  75  76  77  78  79]\n",
      " [ 80  81  82  83  84  85  86  87  88  89]\n",
      " [ 90  91  92  93  94  95  96  97  98  99]\n",
      " [100 101 102 103 104 105 106 107 108 109]\n",
      " [110 111 112 113 114 115 116 117 118 119]\n",
      " [120 121 122 123 124 125 126 127 128 129]\n",
      " [130 131 132 133 134 135 136 137 138 139]\n",
      " [140 141 142 143 144 145 146 147 148 149]\n",
      " [150 151 152 153 154 155 156 157 158 159]]\n"
     ]
    }
   ],
   "source": [
    "arry= np.arange(160).reshape(16,10)\n",
    "print(arry)"
   ]
  },
  {
   "cell_type": "code",
   "execution_count": 24,
   "metadata": {},
   "outputs": [
    {
     "name": "stdout",
     "output_type": "stream",
     "text": [
      "[array([ 0,  4,  8, 12]), array([ 1,  5,  9, 13]), array([ 2,  6, 10, 14]), array([ 3,  7, 11, 15])]\n"
     ]
    }
   ],
   "source": [
    "print([arry[:,i] for i in range(4)])"
   ]
  },
  {
   "cell_type": "code",
   "execution_count": 31,
   "metadata": {},
   "outputs": [
    {
     "name": "stdout",
     "output_type": "stream",
     "text": [
      "[[    0     1     4     9    16    25    36    49    64    81]\n",
      " [  100   121   144   169   196   225   256   289   324   361]\n",
      " [  400   441   484   529   576   625   676   729   784   841]\n",
      " [  900   961  1024  1089  1156  1225  1296  1369  1444  1521]\n",
      " [ 1600  1681  1764  1849  1936  2025  2116  2209  2304  2401]\n",
      " [ 2500  2601  2704  2809  2916  3025  3136  3249  3364  3481]\n",
      " [ 3600  3721  3844  3969  4096  4225  4356  4489  4624  4761]\n",
      " [ 4900  5041  5184  5329  5476  5625  5776  5929  6084  6241]\n",
      " [ 6400  6561  6724  6889  7056  7225  7396  7569  7744  7921]\n",
      " [ 8100  8281  8464  8649  8836  9025  9216  9409  9604  9801]\n",
      " [10000 10201 10404 10609 10816 11025 11236 11449 11664 11881]\n",
      " [12100 12321 12544 12769 12996 13225 13456 13689 13924 14161]\n",
      " [14400 14641 14884 15129 15376 15625 15876 16129 16384 16641]\n",
      " [16900 17161 17424 17689 17956 18225 18496 18769 19044 19321]\n",
      " [19600 19881 20164 20449 20736 21025 21316 21609 21904 22201]\n",
      " [22500 22801 23104 23409 23716 24025 24336 24649 24964 25281]]\n"
     ]
    }
   ],
   "source": [
    "v= np.vectorize(lambda x : x**2)\n",
    "print(v(arry))"
   ]
  },
  {
   "cell_type": "code",
   "execution_count": 70,
   "metadata": {},
   "outputs": [
    {
     "name": "stdout",
     "output_type": "stream",
     "text": [
      "https://www.imdb.com/search/title/?title=Dolittle&adult=include&view=simple&count=2&year=2020\n",
      "{'title': 'Dolittle', 'rating': '5.6'}\n"
     ]
    }
   ],
   "source": [
    "##load data from website \n",
    "import requests, bs4 \n",
    "import urllib\n",
    "\n",
    "\n",
    "title = urllib.parse.quote_plus('Dolittle')\n",
    "year=2020\n",
    "url ='https://www.imdb.com/search/title/?title={0}&adult=include&view=simple&count=2&year={1}'.format(title ,year)\n",
    "print(url)\n",
    "data=requests.get(url)\n",
    "\n",
    "data= bs4.BeautifulSoup(data.text,'html5lib')\n",
    "itemDataText= data.select_one('div.lister-item .lister-item-content')\n",
    "\n",
    "src =[ {'title' : itemDataText.select_one('.col-title span.lister-item-header span[title] a')} ]\n",
    "itemData = {'title':.get_text().strip(),\n",
    "            'rating': itemDataText.select_one('.col-imdb-rating').get_text().strip() }  \n",
    "#itemData.update({'Download Full Movie':data.find(lambda tag:tag.name==\"a\" and \"Download Full Movie\" in tag.text).get('href')})\n",
    "#itemData.update({'Download Full HD':data.find(lambda tag:tag.name==\"a\" and \"Download Full HD\" in tag.text).get('href')})\n",
    "print(itemData)\n"
   ]
  },
  {
   "cell_type": "code",
   "execution_count": 5,
   "metadata": {},
   "outputs": [
    {
     "name": "stdout",
     "output_type": "stream",
     "text": [
      "{'rank': 1, 'test': 1, 's': 3} 12 2\n"
     ]
    }
   ],
   "source": [
    "s={'rank':1}\n",
    "\n",
    "s['test']=1\n",
    "s.update({'s':3})\n"
   ]
  },
  {
   "cell_type": "code",
   "execution_count": null,
   "metadata": {},
   "outputs": [],
   "source": [
    "import progressbar\n",
    "from time import sleep\n",
    "bar = progressbar.ProgressBar(maxval=20, \\\n",
    "    widgets=[progressbar.Bar('#', '[', ']'), ' ', progressbar.Percentage()])\n",
    "bar.start()\n",
    "for i in range(20):\n",
    "   print(1)\n",
    "   bar.update(i+1)\n",
    "   \n",
    "bar.finish()"
   ]
  },
  {
   "cell_type": "code",
   "execution_count": null,
   "metadata": {},
   "outputs": [],
   "source": []
  }
 ],
 "metadata": {
  "kernelspec": {
   "display_name": "Python 3",
   "language": "python",
   "name": "python3"
  },
  "language_info": {
   "codemirror_mode": {
    "name": "ipython",
    "version": 3
   },
   "file_extension": ".py",
   "mimetype": "text/x-python",
   "name": "python",
   "nbconvert_exporter": "python",
   "pygments_lexer": "ipython3",
   "version": "3.7.6"
  }
 },
 "nbformat": 4,
 "nbformat_minor": 4
}
