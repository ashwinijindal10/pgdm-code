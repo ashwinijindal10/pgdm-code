{
 "cells": [
  {
   "cell_type": "code",
   "execution_count": 9,
   "metadata": {},
   "outputs": [],
   "source": [
    "import cv2\n",
    "import numpy as np\n",
    "import time"
   ]
  },
  {
   "cell_type": "code",
   "execution_count": 33,
   "metadata": {},
   "outputs": [
    {
     "name": "stdout",
     "output_type": "stream",
     "text": [
      "(728, 620)\n"
     ]
    }
   ],
   "source": [
    "\n",
    "#declare variables \n",
    "protoFile = \"hand/pose_deploy.prototxt\"\n",
    "weightsFile = \"hand/pose_iter_102000.caffemodel\"\n",
    "nPoints = 22\n",
    "POSE_PAIRS = [ [0,1],[1,2],[2,3],[3,4],[0,5],[5,6],[6,7],[7,8],[0,9],[9,10],[10,11],[11,12],[0,13],[13,14],[14,15],[15,16],[0,17],[17,18],[18,19],[19,20] ]\n",
    "threshold=0.2\n",
    "\n",
    "#get frame\n",
    "frame = cv2.imread(\"img/8.jpg\")\n",
    "frameHeight,frameWidth= frame.shape[:2]\n",
    "print( frame.shape[:2])\n",
    "\n",
    "#finding new size\n",
    "aspect_ratio = frameWidth/frameHeight\n",
    "inHeight = 368\n",
    "inWidth = int(((aspect_ratio*inHeight)*8)//8)\n",
    "\n",
    "net = cv2.dnn.readNetFromCaffe(protoFile, weightsFile)\n",
    "inpBlob = cv2.dnn.blobFromImage(frame, 1.0 / 255, (inWidth, inHeight),(0, 0, 0), swapRB=False, crop=False)\n",
    "net.setInput(inpBlob)"
   ]
  },
  {
   "cell_type": "code",
   "execution_count": 34,
   "metadata": {},
   "outputs": [
    {
     "name": "stdout",
     "output_type": "stream",
     "text": [
      "forward = 3.2166409492492676\n",
      "1\n"
     ]
    }
   ],
   "source": [
    "t = time.time()\n",
    "output = net.forward()\n",
    "print(\"forward = {}\".format(time.time() - t))\n",
    "\n",
    "print(len(output))"
   ]
  },
  {
   "cell_type": "code",
   "execution_count": 35,
   "metadata": {},
   "outputs": [],
   "source": [
    "points = []\n",
    "frameWidth, frameHeight=frameWidth, frameHeight\n",
    "frameCopy=frame.copy()\n",
    "\n",
    "for i in range(nPoints):\n",
    "    # confidence map of corresponding body's part.\n",
    "    probMap = output[0, i, :, :]\n",
    "    probMap = cv2.resize(probMap, (frameWidth, frameHeight))\n",
    "\n",
    "    # Find global maxima of the probMap.\n",
    "    minVal, prob, minLoc, point = cv2.minMaxLoc(probMap)\n",
    "\n",
    "    if prob > threshold :\n",
    "        cv2.circle(frameCopy, (int(point[0]), int(point[1])), 8, (0, 255, 255), thickness=-1, lineType=cv2.FILLED)\n",
    "        cv2.putText(frameCopy, \"{}\".format(i), (int(point[0]), int(point[1])), cv2.FONT_HERSHEY_SIMPLEX, 1, (0, 0, 255), 2, lineType=cv2.LINE_AA)\n",
    "\n",
    "       # Add the point to the list if the probability is greater than the threshold\n",
    "        points.append((int(point[0]), int(point[1])))\n",
    "    else :\n",
    "        points.append(None)\n",
    "\n",
    "        \n",
    "frameCopy=cv2.resize(frameCopy, (500, 600))\n",
    "cv2.imshow('Output-Keypoints', frameCopy)\n",
    "\n",
    "cv2.waitKey()\n",
    "cv2.destroyAllWindows()\n",
    "#cv2.imwrite('asds.jpg', frameCopy) "
   ]
  },
  {
   "cell_type": "code",
   "execution_count": 29,
   "metadata": {},
   "outputs": [],
   "source": [
    "frameCopy1=frame.copy()\n",
    "\n",
    "# Draw Skeleton\n",
    "for pair in POSE_PAIRS:\n",
    "    partA = pair[0]\n",
    "    partB = pair[1]\n",
    "\n",
    "    if points[partA] and points[partB]:\n",
    "        cv2.line(frameCopy1, points[partA], points[partB], (0, 255, 255), 2)\n",
    "        cv2.circle(frameCopy1, points[partA], 8, (0, 0, 255), thickness=-1, lineType=cv2.FILLED)\n",
    "        \n",
    "cv2.imshow('Output-final', frameCopy1)\n",
    "cv2.waitKey()\n",
    "cv2.destroyAllWindows()\n",
    "\n"
   ]
  },
  {
   "cell_type": "code",
   "execution_count": null,
   "metadata": {},
   "outputs": [],
   "source": []
  }
 ],
 "metadata": {
  "kernelspec": {
   "display_name": "Python 3",
   "language": "python",
   "name": "python3"
  },
  "language_info": {
   "codemirror_mode": {
    "name": "ipython",
    "version": 3
   },
   "file_extension": ".py",
   "mimetype": "text/x-python",
   "name": "python",
   "nbconvert_exporter": "python",
   "pygments_lexer": "ipython3",
   "version": "3.7.6"
  }
 },
 "nbformat": 4,
 "nbformat_minor": 4
}
