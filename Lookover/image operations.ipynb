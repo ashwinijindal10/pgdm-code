{
 "cells": [
  {
   "cell_type": "code",
   "execution_count": 1,
   "metadata": {},
   "outputs": [],
   "source": [
    "import cv2\n",
    "import numpy as np\n",
    "from matplotlib import pyplot as plt \n",
    "import random ,string\n",
    "\n",
    "img= cv2.imread('img/5.jpg')\n",
    "#print(img.shape)\n",
    "\n",
    "def show_image(val):\n",
    "    for i,s in enumerate(val):\n",
    "        cv2.imshow('Hello World'+ str(i),s)    \n",
    "    cv2.waitKey()\n",
    "    cv2.destroyAllWindows()"
   ]
  },
  {
   "cell_type": "code",
   "execution_count": null,
   "metadata": {},
   "outputs": [],
   "source": [
    "#gray color\n",
    "\n",
    "gr=cv2.cvtColor(img,cv2.COLOR_BGR2GRAY)\n",
    "\n",
    "show_image([gr])\n",
    "\n",
    "\n",
    "gr.shape\n"
   ]
  },
  {
   "cell_type": "code",
   "execution_count": null,
   "metadata": {},
   "outputs": [],
   "source": [
    "h, w = img.shape[:2]\n",
    "\n",
    "print(h,w)\n",
    "\n",
    "trns= np.float32([[1,0,w/4],[0,1,h/4]])\n",
    "\n",
    "rt= cv2.getRotationMatrix2D((w/2,h/2),22,1)\n",
    "\n",
    "#img_t= cv2.transpose(img)\n",
    "\n",
    "img_t=cv2.warpAffine(img,rt,(w,h))\n",
    "\n",
    "show_image(img_t)"
   ]
  },
  {
   "cell_type": "code",
   "execution_count": null,
   "metadata": {},
   "outputs": [],
   "source": [
    "#resizing INTER_LANCZOS4, cubic is best one\n",
    "#https://stackoverflow.com/questions/3112364/how-do-i-choose-an-image-interpolation-method-emgu-opencv\n",
    "img= cv2.imread('img/1.jpg')\n",
    "i1=cv2.resize(img,(700,700), interpolation = cv2.INTER_LINEAR  )\n",
    "i2=cv2.resize(img,(500,500), interpolation = cv2.INTER_LANCZOS4 )\n",
    "i3=cv2.pyrDown(cv2.pyrDown(cv2.pyrDown(img)))\n",
    "show_image([i1,i2,i3])"
   ]
  },
  {
   "cell_type": "code",
   "execution_count": null,
   "metadata": {},
   "outputs": [],
   "source": [
    "#cropping\n",
    "img1=cv2.rectangle(img, (55,55),(500,500),255)\n",
    "\n",
    "cropped= img[200:843, 222:1000]\n",
    "\n",
    "show_image([cropped,img1])"
   ]
  },
  {
   "cell_type": "code",
   "execution_count": null,
   "metadata": {},
   "outputs": [],
   "source": [
    "#blurring\n",
    "img= cv2.imread('img/5.jpg')\n",
    "img=cv2.resize(img,(500,500), interpolation = cv2.INTER_LANCZOS4 )\n",
    "\n",
    "#manual\n",
    "kernal= np.ones((3,3),np.float32)*1/2\n",
    "blur= cv2.filter2D(img, -1,kernal)\n",
    "\n",
    "#auto\n",
    "\n",
    "b1= cv2.blur(img,(2,2))\n",
    "b2= cv2.GaussianBlur(img,(3,3),0)\n",
    "b3= cv2.bilateralFilter(img,9,75,75)\n",
    "b4= cv2.fastNlMeansDenoisingColored(img,None,6,6,7,21)\n",
    "show_image([img,b3])"
   ]
  },
  {
   "cell_type": "code",
   "execution_count": null,
   "metadata": {},
   "outputs": [],
   "source": [
    "#image sharpening\n",
    "\n",
    "kernal = np.array([\n",
    "    [-1,-1,-1],\n",
    "    [-1,9,-1],\n",
    "    [-1,-1,-1]\n",
    "])\n",
    "\n",
    "sh= cv2.filter2D(img, -1, kernal)\n",
    "\n",
    "show_image([img, sh])"
   ]
  },
  {
   "cell_type": "code",
   "execution_count": null,
   "metadata": {},
   "outputs": [],
   "source": [
    "#threashholding  **\n",
    "\n",
    "img= cv2.imread('img/1.jpg')\n",
    "img=cv2.resize(img,(800,800), interpolation = cv2.INTER_LANCZOS4 )\n",
    "\n",
    "#img= cv2.bilateralFilter(img,9,75,75)\n",
    "img= cv2.GaussianBlur(img,(3,3),0)\n",
    "\n",
    "gray_img=cv2.cvtColor(img,cv2.COLOR_BGR2GRAY)\n",
    "\n",
    "#ret,thrd= cv2.threshold(gray_img, 150, 255,cv2.THRESH_TOZERO)\n",
    "#thrd= cv2.adaptiveThreshold(gray_img, 255,cv2.ADAPTIVE_THRESH_GAUSSIAN_C,cv2.THRESH_BINARY,3,5)\n",
    "ret,thrd= cv2.threshold(gray_img, 0, 255,cv2.THRESH_BINARY+cv2.THRESH_OTSU)\n",
    "\n",
    "show_image([gray_img,thrd])\n",
    "#gray_img"
   ]
  },
  {
   "cell_type": "code",
   "execution_count": null,
   "metadata": {},
   "outputs": [],
   "source": [
    "#dialtion and erosion \n",
    "\n",
    "kernal = np.ones((5,5),np.uint8)\n",
    "\n",
    "#erosion\n",
    "er= cv2.erode(img,kernal,iterations =1)\n",
    "#dial\n",
    "di= cv2.dilate(img,kernal,iterations =1)\n",
    "\n",
    "#morpho\n",
    "\n",
    "opening = cv2.morphologyEx(img,cv2.MORPH_OPEN,kernal)\n",
    "closing = cv2.morphologyEx(img,cv2.MORPH_CLOSE,kernal)\n",
    "\n",
    "show_image([img,opening,closing])"
   ]
  },
  {
   "cell_type": "code",
   "execution_count": null,
   "metadata": {},
   "outputs": [],
   "source": [
    "#edge detection\n",
    "img= cv2.imread('img/nk.jpg')\n",
    "img=cv2.cvtColor(img,cv2.COLOR_BGR2GRAY)\n",
    "img=cv2.resize(img,(400,500), interpolation = cv2.INTER_LANCZOS4 )\n",
    "\n",
    "\n",
    "img1= cv2.Canny(img, 100,200)\n",
    "\n",
    "show_image([img,img1])\n",
    "\n",
    "#cv2.getPerspectiveTransform"
   ]
  },
  {
   "cell_type": "code",
   "execution_count": null,
   "metadata": {},
   "outputs": [],
   "source": [
    "# finding contours\n",
    "img= cv2.imread('img/4.jpg')\n",
    "img=cv2.resize(img,(500,400), interpolation = cv2.INTER_LANCZOS4 )\n",
    "gray=cv2.cvtColor(img,cv2.COLOR_BGR2GRAY)\n",
    "\n",
    "#blur\n",
    "gray= cv2.GaussianBlur(gray,(3,3),0)\n",
    "#ret,gray= cv2.threshold(gray, 50, 255,cv2.THRESH_TOZERO)\n",
    "\n",
    "#show_image([gray,img])\n",
    "\n",
    "gray= cv2.Canny(gray, 100,200)\n",
    "cnts, hr = cv2.findContours(gray.copy(),cv2.RETR_EXTERNAL,cv2.CHAIN_APPROX_SIMPLE)\n",
    "\n",
    "\n",
    "def get_cont_areas(cntrs):\n",
    "    areas=[]\n",
    "    for c in cntrs:\n",
    "        areas.append(cv2.contourArea(c))\n",
    "    return areas\n",
    "\n",
    "\n",
    "#actual image cont draw\n",
    "img1=img.copy()\n",
    "cv2.drawContours(img1 , cnts,-1,(0,255,0),3)\n",
    "\n",
    "#blank image cotours draw\n",
    "blank_img= np.zeros((gray.shape[0],gray.shape[1],3))  \n",
    "blank_img1= blank_img.copy()\n",
    "cv2.drawContours(blank_img1 , cnts,-1,(0,255,0),3)\n",
    "\n",
    "\n",
    "#show max cot.\n",
    "max_cons = sorted(cnts,key=cv2.contourArea,reverse=True)[:]\n",
    "img2=img.copy()\n",
    "cv2.drawContours(img2 , max_cons,-1,(0,255,0),3)\n",
    "print(get_cont_areas(max_cons[:10]))\n",
    "\n",
    "show_image([blank_img1,img2])\n",
    "\n",
    "\n",
    "\n",
    "#finding top contours and convexhull \n",
    "def showContoursInSeries():\n",
    "    for cnt in max_cons[:2]:\n",
    "        hull= cv2.convexHull(cnt)\n",
    "        approx=cv2.approxPolyDP(cnt,0.01*cv2.arcLength(cnt, True),True)\n",
    "        print(len(approx)) #no of polygons\n",
    "        img3=img.copy()\n",
    "        cv2.drawContours(img3 ,[hull],-1,(0,255,0),3)\n",
    "        show_image([img3])\n",
    "        \n",
    "showContoursInSeries()\n",
    "\n",
    "\n"
   ]
  },
  {
   "cell_type": "code",
   "execution_count": null,
   "metadata": {},
   "outputs": [],
   "source": [
    "#blob detections\n",
    "import cv2\n",
    "\n",
    "#skin detection option possible but not good\n",
    "img= cv2.imread('img/Sunflowers.jpg',cv2.IMREAD_GRAYSCALE)\n",
    "img=cv2.resize(img,(500,600), interpolation = cv2.INTER_LANCZOS4 )\n",
    "\n",
    "\n",
    "params = cv2.SimpleBlobDetector_Params()\n",
    "\n",
    "# Change thresholds\n",
    "params.minThreshold = 10\n",
    "params.maxThreshold = 20000\n",
    "params.filterByArea = True\n",
    "detector=cv2.SimpleBlobDetector_create(params)\n",
    "\n",
    "\n",
    "\n",
    "keypoints=detector.detect(img)\n",
    "\n",
    "#draw detect blobs\n",
    "blank = np.zeros((2,2))\n",
    "blobs=cv2.drawKeypoints(img,keypoints,blank,(0,0,255),cv2.DRAW_MATCHES_FLAGS_DRAW_RICH_KEYPOINTS)\n",
    "\n",
    "\n",
    "show_image([img,blobs])"
   ]
  },
  {
   "cell_type": "code",
   "execution_count": null,
   "metadata": {},
   "outputs": [],
   "source": [
    "#image features detection ##pogo cam\n",
    "#use best preformer sift and surf\n",
    "#https://github.com/anaustinbeing/haar-cascade-files\n",
    "import cv2\n",
    "\n",
    "img= cv2.imread('img/1.jpg',cv2.IMREAD_GRAYSCALE)\n",
    "img=cv2.resize(img,(600,600), interpolation = cv2.INTER_LANCZOS4 )\n",
    "\n",
    "orb= cv2.ORB_create(500,1.5)\n",
    "keypoints,desc=orb.detectAndCompute(img, None)\n",
    "\n",
    "img1= cv2.drawKeypoints(img,keypoints,outImage=None,color=(255,0,255))\n",
    "\n",
    "show_image([img1])"
   ]
  },
  {
   "cell_type": "code",
   "execution_count": null,
   "metadata": {},
   "outputs": [],
   "source": [
    "#face recognization \n",
    "#install dlib -https://medium.com/analytics-vidhya/how-to-install-dlib-library-for-python-in-windows-10-57348ba1117f#:~:text=Now%20we%20can%20install%20dlib,need%20to%20install%20CMake%20library.&text=Then%2C%20you%20can%20install%20dlib%20library%20using%20pip%20install%20.&text=After%20passing%20enter%2C%20you%20laptop,run%20the%20C%2C%20C%2B%2B%20Compiler.\n",
    "#Localize the tips of your fingers\n",
    "#help doc https://www.pyimagesearch.com/2019/12/16/training-a-custom-dlib-shape-predictor/\n",
    "import cv2\n",
    "import dlib\n",
    "import numpy \n",
    "from collections import OrderedDict\n",
    "from imutils import face_utils\n",
    "\n",
    "FACIAL_LANDMARKS_IDXS = OrderedDict([\n",
    "    (\"mouth\", (48, 68)),\n",
    "    (\"right_eyebrow\", (17, 22)),\n",
    "    (\"left_eyebrow\", (22, 27)),\n",
    "    (\"right_eye\", (36, 42)),\n",
    "    (\"left_eye\", (42, 48)),\n",
    "    (\"nose\", (27, 35)),\n",
    "    (\"jaw\", (0, 17))\n",
    "])\n",
    "\n",
    "PREDICTOR_PATH = \"shape_predictor_68_face_landmarks.dat\"\n",
    "predictor = dlib.shape_predictor(PREDICTOR_PATH)\n",
    "detector = dlib.get_frontal_face_detector()\n",
    "\n",
    "\n",
    "#shapes = numpy.matrix([[p.x, p.y] for p in predictor(image, rect[0]).parts()])\n",
    "\n",
    "def annotate_landmarks(im, landmarks):\n",
    "    im = im.copy()\n",
    "    for idx, pos in enumerate(landmarks):\n",
    "        pos=tuple(pos)\n",
    "        cv2.putText(im, str(idx),pos ,\n",
    "                    fontFace=cv2.FONT_HERSHEY_SCRIPT_SIMPLEX,\n",
    "                    fontScale=0.4,\n",
    "                    \n",
    "                    color=(0, 0, 255))\n",
    "        cv2.circle(im, pos, 3, color=(0, 255, 255))\n",
    "    return im\n",
    "\n",
    "\n",
    "cap = cv2.VideoCapture(0)\n",
    "while True:\n",
    "    \n",
    "    ret, frame = cap.read()   \n",
    "    #image=cv2.resize(frame,(700,700), interpolation = cv2.INTER_LANCZOS4 )\n",
    "    gray=cv2.cvtColor(frame,cv2.COLOR_BGR2GRAY)\n",
    "    rects = detector(gray,1)\n",
    "    \n",
    "    if(len(rects) == 0):\n",
    "        print(\"no face..\")\n",
    "        continue\n",
    "    \n",
    "    shape = predictor(gray, rects[0])\n",
    "    landmarks = face_utils.shape_to_np(shape)\n",
    "    #print(landmarks)\n",
    "    image_with_landmarks = annotate_landmarks(frame, landmarks)\n",
    "    #show face bounding box\n",
    "    (x, y, w, h) = face_utils.rect_to_bb(rects[0])\n",
    "    cv2.rectangle(image_with_landmarks, (x, y), (x + w, y + h), (0, 255, 0), 2)\n",
    "\n",
    "    cv2.imshow('Live', image_with_landmarks )\n",
    "    \n",
    "    if cv2.waitKey(1) == 13: #13 is the Enter Key\n",
    "        break\n",
    "        \n",
    "cap.release()\n",
    "cv2.destroyAllWindows() \n",
    "\n",
    "#output = face_utils.visualize_facial_landmarks(image, shapes)\n",
    "\n",
    "           "
   ]
  },
  {
   "cell_type": "code",
   "execution_count": null,
   "metadata": {},
   "outputs": [],
   "source": [
    "import cv2\n",
    "\n",
    "#skin detection option possible but not good\n",
    "img= cv2.imread('img/3.jpg')\n",
    "crop_img1=cv2.resize(img,(500,600), interpolation = cv2.INTER_LANCZOS4 )\n",
    "\n",
    "\n",
    "crop_img = cv2.fastNlMeansDenoisingColored(crop_img1, None, 4, 4, 7, 21)\n",
    "crop_img = cv2.Canny(crop_img1, 90, 100)\n",
    "\n",
    "show_image([crop_img1,crop_img])"
   ]
  },
  {
   "cell_type": "code",
   "execution_count": null,
   "metadata": {},
   "outputs": [],
   "source": [
    "#show coutours live video \n",
    "\n",
    "cap = cv2.VideoCapture(0)\n",
    "while True:\n",
    "    \n",
    "    ret, frame = cap.read()   \n",
    "    #resize down\n",
    "    #frame = cv2.pyrDown(frame, cv2.IMREAD_UNCHANGED)\n",
    "\n",
    "    \n",
    "    #image=cv2.resize(frame,(700,700), interpolation = cv2.INTER_LANCZOS4 )\n",
    "    gray=cv2.cvtColor(frame,cv2.COLOR_BGR2GRAY)\n",
    "    \n",
    "    #denoised = cv2.fastNlMeansDenoisingColored(frame, None, 4, 4, 7, 7)\n",
    "    \n",
    "    can_img = cv2.Canny(denoised, 90, 100)\n",
    "    \n",
    "    ret,thresh = cv2.threshold(gray, 180, 255, 0)  #not much useful\n",
    "    \n",
    "    blank_img = np.zeros((frame.shape[1], frame.shape[0]), dtype=np.uint8)\n",
    "    contours, hierarchy = cv2.findContours(thresh, cv2.RETR_TREE, cv2.CHAIN_APPROX_SIMPLE)\n",
    "    #con_img = cv2.drawContours(frame, contours, -1, (0,255,0), 2)\n",
    "    img = frame.copy()\n",
    "    \n",
    "    for c in contours:\n",
    "        # find bounding box coordinates\n",
    "        x,y,w,h = cv2.boundingRect(c)\n",
    "        #cv2.rectangle(img, (x,y), (x+w, y+h), (0, 255, 0), 2)\n",
    "              \n",
    "        # find minimum area\n",
    "        rect = cv2.minAreaRect(c)\n",
    "        # calculate coordinates of the minimum area rectangle\n",
    "        box = cv2.boxPoints(rect)\n",
    "        # normalize coordinates to integers\n",
    "        box = np.int0(box)\n",
    "        # draw contours\n",
    "        cv2.drawContours(img, [box], 0, (0,0, 255), 3)\n",
    "        # calculate center and radius of minimum enclosing circle\n",
    "        (x,y),radius = cv2.minEnclosingCircle(c)\n",
    "        # cast to integers\n",
    "        \n",
    "        center = (int(x),int(y))\n",
    "        radius = int(radius)\n",
    "        # draw the circle\n",
    "        img = cv2.circle(img,center,radius,(0,255,0),2)\n",
    "\n",
    "        cv2.drawContours(img, contours, -1, (255, 0, 0), 1)\n",
    "       \n",
    "    cv2.imshow('Live', img )   \n",
    "    \n",
    "    \n",
    "    if cv2.waitKey(1) == 13: #13 is the Enter Key\n",
    "        break\n",
    "        \n",
    "cap.release()\n",
    "cv2.destroyAllWindows()"
   ]
  },
  {
   "cell_type": "code",
   "execution_count": 66,
   "metadata": {},
   "outputs": [
    {
     "name": "stdout",
     "output_type": "stream",
     "text": [
      "rectange - 358 457 395 464\n"
     ]
    }
   ],
   "source": [
    "#crop text from content\n",
    "\n",
    "import cv2\n",
    "\n",
    "#skin detection option possible but not good\n",
    "img= cv2.imread('img/1.jpg')\n",
    "img=cv2.resize(img,(800,800), interpolation = cv2.INTER_LANCZOS4 )\n",
    "\n",
    "x,y,w,h =  10,10,100,109\n",
    "\n",
    "#crop_img = cv2.fastNlMeansDenoisingColored(crop_img1, None, 4, 4, 7, 21)\n",
    "#crop_img = cv2.Canny(crop_img1, 90, 100)\n",
    "\n",
    "\n",
    "#cv2.waitKey()      \n",
    "#cap.release()\n",
    "\n",
    "## draw rectangular\n",
    "first_done=False\n",
    "mouseX,mouseY=0,0\n",
    "def draw_rect(event,x,y,flags,param):  \n",
    "    global mouseX,mouseY,first_done\n",
    "    if event == cv2.EVENT_LBUTTONUP:\n",
    "        if(not first_done):\n",
    "            mouseX,mouseY = x,y\n",
    "            first_done=True\n",
    "        else :\n",
    "            cv2.rectangle(img, (mouseX,mouseY), (x, y), (0, 255, 0), 2)\n",
    "            first_done= False\n",
    "            print(\"rectange -\",mouseX,mouseY,x,y)\n",
    "        \n",
    "\n",
    "cv2.namedWindow('image')\n",
    "cv2.setMouseCallback('image',draw_rect)\n",
    "while(1):\n",
    "    cv2.imshow('image', img)   \n",
    "    k = cv2.waitKey(20) & 0xFF\n",
    "    if k == 27:\n",
    "        cv2.destroyAllWindows()\n",
    "        break\n",
    "      \n",
    "    \n",
    "#rec 800,800 --  365 426 410 435"
   ]
  },
  {
   "cell_type": "code",
   "execution_count": 98,
   "metadata": {},
   "outputs": [
    {
     "name": "stdout",
     "output_type": "stream",
     "text": [
      "1 4000 3000\n"
     ]
    },
    {
     "data": {
      "text/plain": [
       "<matplotlib.image.AxesImage at 0x1cdb466da08>"
      ]
     },
     "execution_count": 98,
     "metadata": {},
     "output_type": "execute_result"
    },
    {
     "data": {
      "image/png": "[encoded data removed]",
      "text/plain": [
       "<Figure size 432x288 with 1 Axes>"
      ]
     },
     "metadata": {
      "needs_background": "light"
     },
     "output_type": "display_data"
    }
   ],
   "source": [
    "import cv2\n",
    "import matplotlib.pyplot as plt\n",
    "\n",
    "\n",
    "img= cv2.imread('img/1.jpg')\n",
    "orgH,orgW= img.shape[:2]\n",
    "aspect_ratio=orgH//orgW\n",
    "new_w=800\n",
    "img=cv2.resize(img,(new_w,new_w*aspect_ratio), interpolation = cv2.INTER_LANCZOS4 )\n",
    "print(aspect_ratio,orgH,orgW)\n",
    "x1,y1,x2,y2 =  358, 457, 395, 456\n",
    "\n",
    "#cv2.rectangle(img, (x1,y1), (x2, y2), (0, 255, 0), 2)\n",
    "offset=10\n",
    "crop_img = img[y1-offset:y2+offset, x1-offset:x2+offset]\n",
    "crop_img =cv2.resize(crop_img, (150,30))\n",
    "crop_img = cv2.fastNlMeansDenoisingColored(crop_img, None, 4, 4, 7, 21)\n",
    "#crop_img = cv2.Canny(crop_img, 90, 100)\n",
    "#show_image([crop_img])\n",
    "cv2.imwrite('img/tobetexted 3.jpg',crop_img)\n",
    "plt.imshow(crop_img)"
   ]
  },
  {
   "cell_type": "code",
   "execution_count": 63,
   "metadata": {},
   "outputs": [
    {
     "data": {
      "text/plain": [
       "'Dewimat:'"
      ]
     },
     "execution_count": 63,
     "metadata": {},
     "output_type": "execute_result"
    }
   ],
   "source": [
    "import cv2 \n",
    "import pytesseract\n",
    "\n",
    "#preprocess  https://nanonets.com/blog/ocr-with-tesseract/\n",
    "cv2.cvtColor(crop_img, cv2.COLOR_BGR2GRAY)\n",
    "cv2.medianBlur(crop_img,5)\n",
    "#cv2.threshold(crop_img, 0, 255, cv2.THRESH_BINARY + cv2.THRESH_OTSU)[1]\n",
    "\n",
    "pytesseract.pytesseract.tesseract_cmd = 'C://Program Files//Tesseract-OCR//tesseract.exe'\n",
    "custom_config = r'--oem 3 --psm 6'\n",
    "pytesseract.image_to_string(crop_img, config=custom_config)"
   ]
  },
  {
   "cell_type": "code",
   "execution_count": 17,
   "metadata": {},
   "outputs": [
    {
     "data": {
      "text/plain": [
       "-1"
      ]
     },
     "execution_count": 17,
     "metadata": {},
     "output_type": "execute_result"
    }
   ],
   "source": [
    "import cv2\n",
    "import pytesseract\n",
    "img = crop_img #cv2.imread('image.jpg')\n",
    "\n",
    "h, w, c = img.shape\n",
    "boxes = pytesseract.image_to_boxes(img) \n",
    "for b in boxes.splitlines():\n",
    "    b = b.split(' ')\n",
    "    img = cv2.rectangle(img, (int(b[1]), h - int(b[2])), (int(b[3]), h - int(b[4])), (0, 255, 0), 2)\n",
    "\n",
    "cv2.imshow('img', img)\n",
    "cv2.waitKey(0)"
   ]
  },
  {
   "cell_type": "code",
   "execution_count": 18,
   "metadata": {},
   "outputs": [
    {
     "name": "stdout",
     "output_type": "stream",
     "text": [
      "dict_keys(['level', 'page_num', 'block_num', 'par_num', 'line_num', 'word_num', 'left', 'top', 'width', 'height', 'conf', 'text'])\n"
     ]
    }
   ],
   "source": [
    "import cv2\n",
    "import pytesseract\n",
    "from pytesseract import Output\n",
    "pytesseract.pytesseract.tesseract_cmd = 'C://Program Files//Tesseract-OCR//tesseract.exe'\n",
    "\n",
    "img = cv2.imread('img/8.jpg')\n",
    "\n",
    "d = pytesseract.image_to_data(img, output_type=Output.DICT)\n",
    "print(d.keys())"
   ]
  },
  {
   "cell_type": "code",
   "execution_count": 20,
   "metadata": {},
   "outputs": [
    {
     "data": {
      "text/plain": [
       "-1"
      ]
     },
     "execution_count": 20,
     "metadata": {},
     "output_type": "execute_result"
    }
   ],
   "source": [
    "n_boxes = len(d['text'])\n",
    "for i in range(n_boxes):\n",
    "    if int(d['conf'][i]) > 60:\n",
    "        (x, y, w, h) = (d['left'][i], d['top'][i], d['width'][i], d['height'][i])\n",
    "        img = cv2.rectangle(img, (x, y), (x + w, y + h), (0, 255, 0), 2)\n",
    "\n",
    "cv2.imshow('img', img)\n",
    "cv2.waitKey(0)"
   ]
  },
  {
   "cell_type": "code",
   "execution_count": 38,
   "metadata": {},
   "outputs": [
    {
     "name": "stdout",
     "output_type": "stream",
     "text": [
      "['', '', '', '', 'ao']\n"
     ]
    }
   ],
   "source": [
    "import cv2\n",
    "import pytesseract\n",
    "from pytesseract import Output\n",
    "pytesseract.pytesseract.tesseract_cmd = 'C://Program Files//Tesseract-OCR//tesseract.exe'\n",
    "\n",
    "img = cv2.imread('img/8.jpg')\n",
    "\n",
    "x1,y1,x2,y2 =  300 ,350 ,400, 400\n",
    "offset=10\n",
    "img = img[y1-offset:y2+offset, x1-offset:x2+offset]\n",
    "img=cv2.cvtColor(img, cv2.COLOR_BGR2GRAY)\n",
    "\n",
    "(origH, origW) = img.shape[:2]\n",
    "\n",
    "\n",
    "img =cv2.resize(img, (600,400))\n",
    "\n",
    "#img=cv2.medianBlur(img,5)\n",
    "can_img = cv2.Canny(img, 90, 100)\n",
    "#can_img=cv2.threshold(can_img, 0, 255, cv2.THRESH_BINARY + cv2.THRESH_OTSU)[1]\n",
    "\n",
    "configuration = (\"-l eng --oem 1 --psm 8\")\n",
    "d = pytesseract.image_to_data(can_img, output_type=Output.DICT,config=configuration)\n",
    "print(d['text'])\n",
    "\n",
    "cv2.imshow('i',can_img)\n",
    "cv2.waitKey(0)\n",
    "cv2.destroyAllWindows()\n",
    "\n",
    "#https://nanonets.com/blog/deep-learning-ocr/"
   ]
  },
  {
   "cell_type": "code",
   "execution_count": 39,
   "metadata": {},
   "outputs": [],
   "source": [
    "n_boxes = len(d['text'])\n",
    "for i in range(n_boxes):\n",
    "    if int(d['conf'][i]) > 60:\n",
    "        (x, y, w, h) = (d['left'][i], d['top'][i], d['width'][i], d['height'][i])\n",
    "        img = cv2.rectangle(img, (x, y), (x + w, y + h), (0, 255, 0), 2)\n",
    "\n",
    "cv2.imshow('img', img)\n",
    "cv2.waitKey(0)\n",
    "cv2.destroyAllWindows()"
   ]
  }
 ],
 "metadata": {
  "kernelspec": {
   "display_name": "Python 3",
   "language": "python",
   "name": "python3"
  },
  "language_info": {
   "codemirror_mode": {
    "name": "ipython",
    "version": 3
   },
   "file_extension": ".py",
   "mimetype": "text/x-python",
   "name": "python",
   "nbconvert_exporter": "python",
   "pygments_lexer": "ipython3",
   "version": "3.7.7"
  }
 },
 "nbformat": 4,
 "nbformat_minor": 4
}
