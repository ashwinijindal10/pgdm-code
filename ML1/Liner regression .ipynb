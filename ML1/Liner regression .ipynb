{
 "cells": [
  {
   "cell_type": "code",
   "execution_count": null,
   "metadata": {},
   "outputs": [],
   "source": [
    "## regression , classicfication , cluster \n",
    "\n",
    "import pandas as pd \n",
    "df= pd.read_csv('data/Housing.csv')\n",
    "df.head()"
   ]
  },
  {
   "cell_type": "code",
   "execution_count": null,
   "metadata": {},
   "outputs": [],
   "source": [
    "df['prefarea']=df['prefarea'].map({'yes':1 , 'no':0})\n",
    "df['airconditioning']=df['airconditioning'].map({'yes':1 , 'no':0})\n",
    "df['mainroad']=df['mainroad'].map({'yes':1 , 'no':0})\n",
    "df['guestroom']=df['guestroom'].map({'yes':1 , 'no':0})\n",
    "df['basement']=df['basement'].map({'yes':1 , 'no':0})\n",
    "df['hotwaterheating']=df['hotwaterheating'].map({'yes':1 , 'no':0})\n",
    "\n",
    "df.head()"
   ]
  },
  {
   "cell_type": "code",
   "execution_count": null,
   "metadata": {},
   "outputs": [],
   "source": [
    "h_status =pd.get_dummies(df['furnishingstatus'])\n",
    "df=pd.concat([df,h_status], axis=1)\n",
    "del df['furnishingstatus']\n",
    "df.head()"
   ]
  },
  {
   "cell_type": "code",
   "execution_count": null,
   "metadata": {},
   "outputs": [],
   "source": [
    "df= (df-df.mean())/ df.std()\n",
    "\n",
    "df.head()"
   ]
  },
  {
   "cell_type": "code",
   "execution_count": null,
   "metadata": {},
   "outputs": [],
   "source": [
    "import seaborn as sns\n",
    "\n",
    "x=df['area']\n",
    "y= df['price']\n",
    "\n",
    "sns.pairplot(df, x_vars='area', y_vars='price',size=7)\n",
    "\n"
   ]
  },
  {
   "cell_type": "code",
   "execution_count": null,
   "metadata": {},
   "outputs": [],
   "source": [
    "import numpy as np\n",
    "import pandas as pd \n",
    "import matplotlib.pyplot as plt\n",
    "import seaborn as sns\n",
    "\n",
    "df= pd.read_csv('data/advertising.csv')\n",
    "\n",
    "\n",
    "df.head()\n",
    "\n",
    "#summerising data\n",
    "\n",
    "print(df.describe())\n",
    "print(df.isnull().sum())\n",
    "df.info()\n",
    "df.shape\n"
   ]
  },
  {
   "cell_type": "code",
   "execution_count": null,
   "metadata": {},
   "outputs": [],
   "source": [
    "#visualizing data\n",
    "\n",
    "#sns.regplot(x=\"Newspaper\", y=\"Sales\",data=df)\n",
    "sns.pairplot(data=df,x_vars=[\"TV\",\"Radio\",\"Newspaper\"],y_vars=[\"Sales\"])\n"
   ]
  },
  {
   "cell_type": "code",
   "execution_count": null,
   "metadata": {},
   "outputs": [],
   "source": [
    "#corelation\n",
    "\n",
    "#df.corr()\n",
    "\n",
    "sns.heatmap(df.corr(),annot=True)"
   ]
  },
  {
   "cell_type": "code",
   "execution_count": null,
   "metadata": {},
   "outputs": [],
   "source": [
    "#creating model\n",
    "import statsmodels\n",
    "import statsmodels.api as sm\n",
    "import sklearn \n",
    "from sklearn.model_selection import train_test_split"
   ]
  },
  {
   "cell_type": "code",
   "execution_count": null,
   "metadata": {},
   "outputs": [],
   "source": [
    "x=df['TV']\n",
    "y=df['Sales']\n",
    "x_train,x_test,y_train,y_test=train_test_split(x,y,train_size=0.8,random_state=100)\n",
    "\n",
    "\n",
    "x_train.shape"
   ]
  },
  {
   "cell_type": "code",
   "execution_count": null,
   "metadata": {},
   "outputs": [],
   "source": [
    "#training data\n",
    "x_train_sm = sm.add_constant(x_train)\n",
    "x_train_sm"
   ]
  },
  {
   "cell_type": "code",
   "execution_count": null,
   "metadata": {
    "scrolled": true
   },
   "outputs": [],
   "source": [
    "lr=sm.OLS(y_train,x_train_sm)\n",
    "lr_model= lr.fit()\n",
    "lr_model.summary()"
   ]
  },
  {
   "cell_type": "code",
   "execution_count": null,
   "metadata": {},
   "outputs": [],
   "source": [
    "plt.scatter(x_train,y_train)\n",
    "#plt.plot(x_train, 6.9955+0.0541*x_train,'r')\n",
    "y_predict= lr_model.predict(x_train_sm)\n",
    "plt.plot(x_train,y_predict,'b')"
   ]
  },
  {
   "cell_type": "code",
   "execution_count": null,
   "metadata": {},
   "outputs": [],
   "source": [
    "#calculate residual normal distribution\n",
    "\n",
    "residual= y_train- y_predict\n",
    "\n",
    "sns.distplot(residual)"
   ]
  },
  {
   "cell_type": "code",
   "execution_count": null,
   "metadata": {},
   "outputs": [],
   "source": [
    "#ploting residual scatter \n",
    "plt.scatter(x_train, residual)"
   ]
  },
  {
   "cell_type": "code",
   "execution_count": null,
   "metadata": {},
   "outputs": [],
   "source": [
    "from sklearn.metrics import mean_squared_error\n",
    "from sklearn.metrics import r2_score\n",
    "\n",
    "x_test_sm = sm.add_constant(x_test)\n",
    "y_test_predict= lr_model.predict(x_test_sm)\n",
    "\n",
    "#rs1= y_test- y_test_predict\n",
    "#sns.distplot(rs1)\n",
    "\n",
    "r2_score(y_test,y_test_predict)"
   ]
  },
  {
   "cell_type": "code",
   "execution_count": null,
   "metadata": {},
   "outputs": [],
   "source": [
    "#using sklearn\n",
    "from sklearn.linear_model import LinearRegression\n",
    "\n",
    "lm=LinearRegression()\n",
    "#reshape required for x_train\n",
    "\n",
    "x_train_lm= x_train.values.reshape(-1,1)\n",
    "\n",
    "lm.fit(x_train_lm, y_train)\n"
   ]
  },
  {
   "cell_type": "code",
   "execution_count": null,
   "metadata": {},
   "outputs": [],
   "source": [
    "#multivariable multiliner variable \n",
    "import pandas as pd \n",
    "import numpy as np\n",
    "import matplotlib.pyplot as plt\n",
    "import seaborn as sns\n",
    "\n",
    "df= pd.read_csv('data/Housing.csv')\n",
    "\n",
    "df.head()\n",
    "#df.info()\n",
    "df.describe()\n",
    "#df.isnull().sum()"
   ]
  },
  {
   "cell_type": "code",
   "execution_count": null,
   "metadata": {},
   "outputs": [],
   "source": [
    "#visualising \n",
    "\n",
    "\n",
    "sns.pairplot(data=df) #, xvalues=[\"area\",\"bedrooms\",\"stories\"],y_values=\"price\"\n",
    "plt.show()"
   ]
  },
  {
   "cell_type": "code",
   "execution_count": null,
   "metadata": {},
   "outputs": [],
   "source": [
    "#for categorical variable use box plot \n",
    "\n",
    "plt.figure(figsize=(20,10))\n",
    "plt.subplot(2,2,1)\n",
    "sns.boxplot(x=\"parking\",y=\"price\",data=df)\n",
    "plt.subplot(2,2,2)\n",
    "sns.boxplot(x=\"mainroad\",y=\"price\",data=df)\n",
    "plt.subplot(2,2,3)\n",
    "sns.boxplot(x=\"airconditioning\",y=\"price\",data=df)\n",
    "plt.subplot(2,2,4)\n",
    "sns.boxplot(x=\"furnishingstatus\",y=\"price\",hue=\"airconditioning\",data=df)"
   ]
  },
  {
   "cell_type": "code",
   "execution_count": null,
   "metadata": {},
   "outputs": [],
   "source": [
    "\n",
    "#preparing data\n",
    "cat_cols=['prefarea','airconditioning','mainroad','guestroom','basement','hotwaterheating']\n",
    "df[cat_cols]=df[cat_cols].apply(lambda x:x.map({'yes':1 , 'no':0}))\n",
    "\n"
   ]
  },
  {
   "cell_type": "code",
   "execution_count": null,
   "metadata": {},
   "outputs": [],
   "source": [
    "\n",
    "h_status =pd.get_dummies(df['furnishingstatus'])\n",
    "df=pd.concat([df,h_status], axis=1)\n",
    "del df['furnishingstatus'],df['furnished']\n",
    "\n",
    "df"
   ]
  },
  {
   "cell_type": "code",
   "execution_count": null,
   "metadata": {},
   "outputs": [],
   "source": [
    "import sklearn\n",
    "from sklearn.model_selection import train_test_split\n",
    "\n",
    "\n",
    "df_train,df_test= train_test_split(df, train_size=0.7,random_state=100)\n",
    "print(df_train.shape,df_test.shape )"
   ]
  },
  {
   "cell_type": "code",
   "execution_count": null,
   "metadata": {},
   "outputs": [],
   "source": [
    "### normalization and standarization \n",
    "\n",
    "#normalization = (x-xmin)/(xmax-xmin) will be (1 to 0)\n",
    "#standrization = (x-xmean)/std.deviation[sigma]\n",
    "\n",
    "from sklearn.preprocessing import MinMaxScaler \n",
    "scaler= MinMaxScaler()\n",
    "\n",
    "num_cols=['price','area','bedrooms','bathrooms','stories','parking']\n",
    "df_train[num_cols]=scaler.fit_transform(df_train[num_cols])\n",
    "\n",
    "df_train\n"
   ]
  },
  {
   "cell_type": "code",
   "execution_count": null,
   "metadata": {
    "scrolled": true
   },
   "outputs": [],
   "source": [
    "#check corelation with columns , filter columns according \n",
    "\n",
    "plt.figure(figsize=(20,20))\n",
    "sns.heatmap(df_train.corr(),annot=True,cmap='YlGnBu')\n",
    "plt.show()\n",
    "\n",
    "#df_train.corr()"
   ]
  },
  {
   "cell_type": "code",
   "execution_count": null,
   "metadata": {},
   "outputs": [],
   "source": [
    "Y_train = df_train.pop(\"price\")\n",
    "X_train= df_train\n",
    "\n",
    "#X_train\n",
    "Y_train.head()"
   ]
  },
  {
   "cell_type": "code",
   "execution_count": null,
   "metadata": {},
   "outputs": [],
   "source": [
    "#statistic anaylysis , and vif forward parms order \n",
    "import statsmodels.api as sm\n",
    "\n",
    "X_train_sm= sm.add_constant(X_train[\"area\"])\n",
    "\n",
    "lr= sm.OLS(Y_train,X_train_sm)\n",
    "\n",
    "#fit\n",
    "model= lr.fit()\n",
    "\n",
    "model.summary()"
   ]
  },
  {
   "cell_type": "code",
   "execution_count": null,
   "metadata": {},
   "outputs": [],
   "source": [
    "#add more variable \n",
    "X_train_sm= sm.add_constant(X_train[[\"area\",\"airconditioning\"]])\n",
    "\n",
    "lr= sm.OLS(Y_train,X_train_sm)\n",
    "\n",
    "#fit\n",
    "model= lr.fit()\n",
    "\n",
    "model.summary()"
   ]
  },
  {
   "cell_type": "code",
   "execution_count": null,
   "metadata": {},
   "outputs": [],
   "source": [
    "#add all variable \n",
    "X_train_sm= sm.add_constant(X_train)\n",
    "\n",
    "lr= sm.OLS(Y_train,X_train_sm)\n",
    "\n",
    "#fit\n",
    "model= lr.fit()\n",
    "\n",
    "model.summary()"
   ]
  },
  {
   "cell_type": "code",
   "execution_count": null,
   "metadata": {},
   "outputs": [],
   "source": [
    "#backward way removing \n",
    "# p value significance  , VIF\n",
    "from statsmodels.stats.outliers_influence import variance_inflation_factor\n",
    "\n",
    "vif=pd.DataFrame()\n",
    "vif[\"features\"]=X_train.columns\n",
    "vif[\"vif\"]= [ round(variance_inflation_factor(X_train.values,i),2) for i in range(X_train.shape[1])]\n",
    "\n",
    "vif = vif.sort_values(by=\"vif\",ascending =False)\n",
    "\n",
    "vif\n",
    "\n",
    "\n"
   ]
  },
  {
   "cell_type": "code",
   "execution_count": null,
   "metadata": {},
   "outputs": [],
   "source": [
    "##remove bedrooms as heigh value of p-val and vif\n",
    "\n",
    "X_train_sm1= X_train_sm.drop(\"bedrooms\",axis=1)\n",
    "lr= sm.OLS(Y_train,X_train_sm1)\n",
    "\n",
    "#fit\n",
    "model= lr.fit()\n",
    "\n",
    "model.summary()"
   ]
  },
  {
   "cell_type": "code",
   "execution_count": null,
   "metadata": {},
   "outputs": [],
   "source": [
    "#backward way removing \n",
    "# p value significance  , VIF\n",
    "from statsmodels.stats.outliers_influence import variance_inflation_factor\n",
    "\n",
    "X1=X_train_sm1.drop('const',axis=1)\n",
    "\n",
    "vif=pd.DataFrame()\n",
    "vif[\"features\"]=X1.columns\n",
    "vif[\"vif\"]= [ round(variance_inflation_factor(X1.values,i),2) for i in range(X1.shape[1])]\n",
    "\n",
    "vif = vif.sort_values(by=\"vif\",ascending =False)\n",
    "\n",
    "vif\n",
    "\n",
    "\n"
   ]
  },
  {
   "cell_type": "code",
   "execution_count": null,
   "metadata": {},
   "outputs": [],
   "source": [
    "#residual analysis\n",
    "\n",
    "y_predict= model.predict(X_train_sm1)\n",
    "rs=Y_train- y_predict\n",
    "\n",
    "sns.distplot(rs)"
   ]
  },
  {
   "cell_type": "code",
   "execution_count": null,
   "metadata": {},
   "outputs": [],
   "source": [
    "#prediction on test data \n",
    "#scaling for pre\n",
    "num_cols=['price','area','bedrooms','bathrooms','stories','parking']\n",
    "df_test[num_cols]=scaler.transform(df_test[num_cols])\n",
    "\n",
    "df_test.describe()"
   ]
  },
  {
   "cell_type": "code",
   "execution_count": null,
   "metadata": {},
   "outputs": [],
   "source": [
    "Y_test= df_test.pop('price')\n",
    "X_test = df_test\n",
    "X_test_1=X_test.drop(\"bedrooms\",axis=1)\n",
    "X_test_sm=  sm.add_constant(X_test_1)\n",
    "\n",
    "X_test_sm"
   ]
  },
  {
   "cell_type": "code",
   "execution_count": null,
   "metadata": {},
   "outputs": [],
   "source": [
    "\n",
    "Y_test_predict= model.predict(X_test_sm)\n",
    "rs=Y_test- Y_test_predict\n",
    "\n",
    "sns.distplot(rs)"
   ]
  },
  {
   "cell_type": "code",
   "execution_count": null,
   "metadata": {},
   "outputs": [],
   "source": [
    "from sklearn.metrics import r2_score\n",
    "\n",
    "r2_score(Y_test,Y_test_predict)"
   ]
  },
  {
   "cell_type": "code",
   "execution_count": null,
   "metadata": {
    "scrolled": true
   },
   "outputs": [],
   "source": [
    "#rfe model \n",
    "\n",
    "from sklearn.feature_selection import RFE\n",
    "from sklearn.linear_model import LinearRegression\n",
    "\n",
    "\n",
    "\n",
    "lm=LinearRegression()\n",
    "#reshape required for x_train\n",
    "\n",
    "lm.fit(X_train, Y_train)\n",
    "\n",
    "rfe= RFE(lm, 9)\n",
    "rfe= rfe.fit(X_train, Y_train)\n",
    "\n",
    "rfe_cols=X_train.columns[rfe.support_]\n"
   ]
  },
  {
   "cell_type": "code",
   "execution_count": null,
   "metadata": {
    "scrolled": true
   },
   "outputs": [],
   "source": [
    "X_train_rfe=X_train[rfe_cols]\n",
    "\n",
    "X_train_rfe_sm= sm.add_constant(X_train_rfe)\n",
    "\n",
    "lr= sm.OLS(Y_train,X_train_rfe_sm)\n",
    "\n",
    "#fit\n",
    "model= lr.fit()\n",
    "\n",
    "model.summary()"
   ]
  },
  {
   "cell_type": "code",
   "execution_count": null,
   "metadata": {},
   "outputs": [],
   "source": [
    "\n",
    "lst =[1,42,300,400,900]\n",
    "i=0\n",
    "isIn=True\n",
    "\n",
    "while(len(lst) > i+1):\n",
    "    if(lst[i]>lst[i+1]):\n",
    "        isIn=False\n",
    "        break\n",
    "    i+=1\n",
    "\n",
    "print(isIn)        \n",
    "\n",
    "print([(i,j,k) for i,j,k in zip(lst, lst[1:], lst[2:])])\n",
    "\n",
    "#print(all(i < j for i, j in zip(input_list, input_list[1:])))"
   ]
  },
  {
   "cell_type": "code",
   "execution_count": null,
   "metadata": {},
   "outputs": [],
   "source": [
    "val = 123456781\n",
    "\n",
    "print('Even'if (sum([int(n)  for n in  str(val)])%2==0)  else 'odd') \n",
    "print('Even'if sum(map(int,str(val)))%2==0  else 'odd') "
   ]
  },
  {
   "cell_type": "code",
   "execution_count": null,
   "metadata": {},
   "outputs": [],
   "source": [
    "from collections import OrderedDict\n",
    "lst= [\"pasta\",\"pasta\",\"pasta\",\"pasta\",\"pasta\",\"paratha\",\"paratha\",\"paratha\"]\n",
    "\n",
    "frq= list(OrderedDict([ (f,lst.count(f)) for f in lst ]).items())\n",
    "          \n",
    "print(frq[0][0] if frq[0][1]> len(lst)*0.5 else 'NOTA')\n",
    "\n",
    "set(lst)"
   ]
  },
  {
   "cell_type": "code",
   "execution_count": null,
   "metadata": {},
   "outputs": [],
   "source": [
    "import pandas as pd \n",
    "import matplotlib.pyplot as plt\n",
    "import seaborn as sns\n",
    "\n",
    "df= pd.read_csv('data/insurance.csv')\n",
    "\n",
    "\n",
    "df.head()\n",
    "\n",
    "#summerising data\n",
    "\n",
    "print(df.describe())\n",
    "print(df.isnull().sum())\n",
    "print(df.info())\n",
    "#print(df.shape)\n"
   ]
  },
  {
   "cell_type": "code",
   "execution_count": null,
   "metadata": {},
   "outputs": [],
   "source": [
    "df['BMI_group']= df.apply(lambda row: 'Underweight' if row['bmi'] < 18.5 else ( \\\n",
    "        'Normal' if row['bmi'] > 18.5  and row['bmi'] < 24.9  else (  \\\n",
    "            'Overweight' if row['bmi'] > 25 and row['bmi'] < 29.9  else 'Obese')), axis=1)\n",
    "                                                                            \n",
    "df['is_male']= df['sex'].map({'female':0 ,'male':1})\n",
    "df['smoker']= df['smoker'].map({'no':0 ,'yes':1})        \n",
    "\n"
   ]
  },
  {
   "cell_type": "code",
   "execution_count": null,
   "metadata": {},
   "outputs": [],
   "source": [
    "df =pd.get_dummies(df ,columns=['BMI_group'])\n",
    "df"
   ]
  },
  {
   "cell_type": "code",
   "execution_count": null,
   "metadata": {},
   "outputs": [],
   "source": [
    "df=df.drop(['sex','BMI_group_Normal'], axis = 1) \n",
    "\n",
    "df"
   ]
  },
  {
   "cell_type": "code",
   "execution_count": null,
   "metadata": {},
   "outputs": [],
   "source": [
    "plt.figure(figsize=(20,20))\n",
    "sns.heatmap(df.corr(),annot=True,cmap='YlGnBu')\n",
    "plt.show()"
   ]
  },
  {
   "cell_type": "code",
   "execution_count": null,
   "metadata": {},
   "outputs": [],
   "source": [
    "#creating model\n",
    "import statsmodels\n",
    "import statsmodels.api as sm\n",
    "import sklearn \n",
    "from sklearn.model_selection import train_test_split\n",
    "\n",
    "X=df[['bmi','age','smoker','BMI_group_Obese']]\n",
    "Y=df['charges']\n",
    "\n",
    "X_train,X_test,Y_train,Y_test=train_test_split(X,Y,train_size=0.7,random_state=100)"
   ]
  },
  {
   "cell_type": "code",
   "execution_count": null,
   "metadata": {},
   "outputs": [],
   "source": [
    "X_train_sm=sm.add_constant(X_train)\n",
    "\n",
    "lr= sm.OLS(Y_train,X_train_sm)\n",
    "\n",
    "#fit\n",
    "model= lr.fit()\n",
    "\n",
    "model.summary()"
   ]
  },
  {
   "cell_type": "code",
   "execution_count": null,
   "metadata": {},
   "outputs": [],
   "source": [
    "from sklearn.metrics import r2_score\n",
    "\n",
    "\n",
    "X_test_sm= sm.add_constant(X_test)\n",
    "\n",
    "Y_test_predict= model.predict(X_test_sm)\n",
    "\n",
    "print(r2_score(Y_test,Y_test_predict))\n",
    "\n"
   ]
  },
  {
   "cell_type": "code",
   "execution_count": null,
   "metadata": {},
   "outputs": [],
   "source": [
    "RSS= Y_test_predict-Y_test\n",
    "\n",
    "sns.distplot(RSS)"
   ]
  },
  {
   "cell_type": "code",
   "execution_count": null,
   "metadata": {},
   "outputs": [],
   "source": [
    "\n",
    "sns.pairplot(data=df) #, xvalues=[\"area\",\"bedrooms\",\"stories\"],y_values=\"price\"\n",
    "plt.show()"
   ]
  },
  {
   "cell_type": "code",
   "execution_count": 1,
   "metadata": {},
   "outputs": [
    {
     "data": {
      "text/plain": [
       "array(['alfa-romero', 'audi', 'bmw', 'chevrolet', 'dodge', 'honda',\n",
       "       'isuzu', 'jaguar', 'mazda', 'buick', 'mercury', 'mitsubishi',\n",
       "       'nissan', 'peugeot', 'plymouth', 'porsche', 'renault', 'saab',\n",
       "       'subaru', 'toyota', 'volkswagen', 'volvo'], dtype=object)"
      ]
     },
     "execution_count": 1,
     "metadata": {},
     "output_type": "execute_result"
    }
   ],
   "source": [
    "import pandas as pd \n",
    "import matplotlib.pyplot as plt\n",
    "import seaborn as sns\n",
    "\n",
    "df= pd.read_csv('data/CarPrice_Assignment.csv')\n",
    "\n",
    "#summerising data\n",
    "\n",
    "#print(df.describe())\n",
    "#print(df.isnull().sum())\n",
    "#print(df.info())\n",
    "#print(df.shape)\n",
    "\n",
    "\n",
    "#df['brand']= df[\"CarName\"].str.split('-')[0]\n",
    "#del df[\"CarName\"]\n",
    "\n",
    "df['is_diesel']= df[\"fueltype\"].map({'gas':0 ,'diesel' :1 })\n",
    "\n",
    "df['brand']= df[\"CarName\"].map(lambda s : s.split(' ')[0])\n",
    "#df['']\n",
    "df.head()\n",
    "\n",
    "df['brand']=df['brand'].str.lower()\n",
    "brand_mapping = {\n",
    "    'vokswagen' : 'volkswagen',\n",
    "    'vw' : 'volkswagen',\n",
    "    'porcshce': 'porsche',\n",
    "    'toyouta':'toyota',\n",
    "    'maxda':'mazda'\n",
    "    \n",
    "}\n",
    "df['brand']=df['brand'].map(lambda x: brand_mapping.get(x) if x in brand_mapping else x)\n",
    "\n",
    "df['brand'].unique()"
   ]
  },
  {
   "cell_type": "code",
   "execution_count": 2,
   "metadata": {
    "scrolled": true
   },
   "outputs": [
    {
     "data": {
      "text/plain": [
       "<matplotlib.axes._subplots.AxesSubplot at 0x1a403219f08>"
      ]
     },
     "execution_count": 2,
     "metadata": {},
     "output_type": "execute_result"
    },
    {
     "data": {
      "image/png": "[encoded data removed]",
      "text/plain": [
       "<Figure size 1440x720 with 1 Axes>"
      ]
     },
     "metadata": {
      "needs_background": "light"
     },
     "output_type": "display_data"
    }
   ],
   "source": [
    "plt.figure(figsize=(20,10))\n",
    "\n",
    "sns.boxplot(df['fueltype'],df['price'],hue=df['brand'])"
   ]
  },
  {
   "cell_type": "code",
   "execution_count": 9,
   "metadata": {
    "scrolled": true
   },
   "outputs": [
    {
     "name": "stdout",
     "output_type": "stream",
     "text": [
      "fwd    120\n",
      "rwd     76\n",
      "4wd      9\n",
      "Name: drivewheel, dtype: int64\n"
     ]
    }
   ],
   "source": [
    "print(df['drivewheel'].astype('category').value_counts())"
   ]
  },
  {
   "cell_type": "code",
   "execution_count": 7,
   "metadata": {},
   "outputs": [
    {
     "data": {
      "text/html": [
       "<div>\n",
       "<style scoped>\n",
       "    .dataframe tbody tr th:only-of-type {\n",
       "        vertical-align: middle;\n",
       "    }\n",
       "\n",
       "    .dataframe tbody tr th {\n",
       "        vertical-align: top;\n",
       "    }\n",
       "\n",
       "    .dataframe thead th {\n",
       "        text-align: right;\n",
       "    }\n",
       "</style>\n",
       "<table border=\"1\" class=\"dataframe\">\n",
       "  <thead>\n",
       "    <tr style=\"text-align: right;\">\n",
       "      <th></th>\n",
       "      <th>car_ID</th>\n",
       "      <th>symboling</th>\n",
       "      <th>wheelbase</th>\n",
       "      <th>carlength</th>\n",
       "      <th>carwidth</th>\n",
       "      <th>carheight</th>\n",
       "      <th>curbweight</th>\n",
       "      <th>enginesize</th>\n",
       "      <th>boreratio</th>\n",
       "      <th>stroke</th>\n",
       "      <th>compressionratio</th>\n",
       "      <th>horsepower</th>\n",
       "      <th>peakrpm</th>\n",
       "      <th>citympg</th>\n",
       "      <th>highwaympg</th>\n",
       "      <th>price</th>\n",
       "      <th>is_diesel</th>\n",
       "    </tr>\n",
       "  </thead>\n",
       "  <tbody>\n",
       "    <tr>\n",
       "      <th>0</th>\n",
       "      <td>1</td>\n",
       "      <td>3</td>\n",
       "      <td>88.6</td>\n",
       "      <td>168.8</td>\n",
       "      <td>64.1</td>\n",
       "      <td>48.8</td>\n",
       "      <td>2548</td>\n",
       "      <td>130</td>\n",
       "      <td>3.47</td>\n",
       "      <td>2.68</td>\n",
       "      <td>9.0</td>\n",
       "      <td>111</td>\n",
       "      <td>5000</td>\n",
       "      <td>21</td>\n",
       "      <td>27</td>\n",
       "      <td>13495.0</td>\n",
       "      <td>0</td>\n",
       "    </tr>\n",
       "    <tr>\n",
       "      <th>1</th>\n",
       "      <td>2</td>\n",
       "      <td>3</td>\n",
       "      <td>88.6</td>\n",
       "      <td>168.8</td>\n",
       "      <td>64.1</td>\n",
       "      <td>48.8</td>\n",
       "      <td>2548</td>\n",
       "      <td>130</td>\n",
       "      <td>3.47</td>\n",
       "      <td>2.68</td>\n",
       "      <td>9.0</td>\n",
       "      <td>111</td>\n",
       "      <td>5000</td>\n",
       "      <td>21</td>\n",
       "      <td>27</td>\n",
       "      <td>16500.0</td>\n",
       "      <td>0</td>\n",
       "    </tr>\n",
       "    <tr>\n",
       "      <th>2</th>\n",
       "      <td>3</td>\n",
       "      <td>1</td>\n",
       "      <td>94.5</td>\n",
       "      <td>171.2</td>\n",
       "      <td>65.5</td>\n",
       "      <td>52.4</td>\n",
       "      <td>2823</td>\n",
       "      <td>152</td>\n",
       "      <td>2.68</td>\n",
       "      <td>3.47</td>\n",
       "      <td>9.0</td>\n",
       "      <td>154</td>\n",
       "      <td>5000</td>\n",
       "      <td>19</td>\n",
       "      <td>26</td>\n",
       "      <td>16500.0</td>\n",
       "      <td>0</td>\n",
       "    </tr>\n",
       "    <tr>\n",
       "      <th>3</th>\n",
       "      <td>4</td>\n",
       "      <td>2</td>\n",
       "      <td>99.8</td>\n",
       "      <td>176.6</td>\n",
       "      <td>66.2</td>\n",
       "      <td>54.3</td>\n",
       "      <td>2337</td>\n",
       "      <td>109</td>\n",
       "      <td>3.19</td>\n",
       "      <td>3.40</td>\n",
       "      <td>10.0</td>\n",
       "      <td>102</td>\n",
       "      <td>5500</td>\n",
       "      <td>24</td>\n",
       "      <td>30</td>\n",
       "      <td>13950.0</td>\n",
       "      <td>0</td>\n",
       "    </tr>\n",
       "    <tr>\n",
       "      <th>4</th>\n",
       "      <td>5</td>\n",
       "      <td>2</td>\n",
       "      <td>99.4</td>\n",
       "      <td>176.6</td>\n",
       "      <td>66.4</td>\n",
       "      <td>54.3</td>\n",
       "      <td>2824</td>\n",
       "      <td>136</td>\n",
       "      <td>3.19</td>\n",
       "      <td>3.40</td>\n",
       "      <td>8.0</td>\n",
       "      <td>115</td>\n",
       "      <td>5500</td>\n",
       "      <td>18</td>\n",
       "      <td>22</td>\n",
       "      <td>17450.0</td>\n",
       "      <td>0</td>\n",
       "    </tr>\n",
       "  </tbody>\n",
       "</table>\n",
       "</div>"
      ],
      "text/plain": [
       "   car_ID  symboling  wheelbase  carlength  carwidth  carheight  curbweight  \\\n",
       "0       1          3       88.6      168.8      64.1       48.8        2548   \n",
       "1       2          3       88.6      168.8      64.1       48.8        2548   \n",
       "2       3          1       94.5      171.2      65.5       52.4        2823   \n",
       "3       4          2       99.8      176.6      66.2       54.3        2337   \n",
       "4       5          2       99.4      176.6      66.4       54.3        2824   \n",
       "\n",
       "   enginesize  boreratio  stroke  compressionratio  horsepower  peakrpm  \\\n",
       "0         130       3.47    2.68               9.0         111     5000   \n",
       "1         130       3.47    2.68               9.0         111     5000   \n",
       "2         152       2.68    3.47               9.0         154     5000   \n",
       "3         109       3.19    3.40              10.0         102     5500   \n",
       "4         136       3.19    3.40               8.0         115     5500   \n",
       "\n",
       "   citympg  highwaympg    price  is_diesel  \n",
       "0       21          27  13495.0          0  \n",
       "1       21          27  16500.0          0  \n",
       "2       19          26  16500.0          0  \n",
       "3       24          30  13950.0          0  \n",
       "4       18          22  17450.0          0  "
      ]
     },
     "execution_count": 7,
     "metadata": {},
     "output_type": "execute_result"
    }
   ],
   "source": [
    "df_num=df.select_dtypes(include=['float64', 'int64'])\n",
    "df_num.head()"
   ]
  }
 ],
 "metadata": {
  "kernelspec": {
   "display_name": "Python 3",
   "language": "python",
   "name": "python3"
  },
  "language_info": {
   "codemirror_mode": {
    "name": "ipython",
    "version": 3
   },
   "file_extension": ".py",
   "mimetype": "text/x-python",
   "name": "python",
   "nbconvert_exporter": "python",
   "pygments_lexer": "ipython3",
   "version": "3.7.6"
  }
 },
 "nbformat": 4,
 "nbformat_minor": 4
}
