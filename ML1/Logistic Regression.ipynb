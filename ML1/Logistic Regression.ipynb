{
 "cells": [
  {
   "cell_type": "code",
   "execution_count": null,
   "metadata": {},
   "outputs": [],
   "source": [
    "import pandas as pd\n",
    "import sklearn \n",
    "from sklearn.model_selection import train_test_split\n",
    "from sklearn.preprocessing import StandardScaler\n",
    "import seaborn as sns\n",
    "import matplotlib.pyplot as plt\n",
    "import statsmodels.api as sm\n",
    "from sklearn.linear_model import LogisticRegression\n",
    "from sklearn.feature_selection import RFE\n",
    "from sklearn import metrics\n",
    "\n",
    "\n",
    "path=r'data/LogisticRegression/Telecom Churn/'\n",
    "df_cust=pd.read_csv(path+'customer_data.csv')\n",
    "df_curn=pd.read_csv(path+'churn_data.csv')\n",
    "df_int=pd.read_csv(path+'internet_data.csv')\n",
    "\n",
    "df_1= pd.merge(df_cust,df_curn , how='inner',on='customerID')\n",
    "df_telecom =pd.merge(df_1, df_int, how='inner',on='customerID')"
   ]
  },
  {
   "cell_type": "code",
   "execution_count": null,
   "metadata": {},
   "outputs": [],
   "source": [
    "df_telecom.head()"
   ]
  },
  {
   "cell_type": "code",
   "execution_count": null,
   "metadata": {
    "scrolled": true
   },
   "outputs": [],
   "source": [
    "df_telecom.info()"
   ]
  },
  {
   "cell_type": "code",
   "execution_count": null,
   "metadata": {},
   "outputs": [],
   "source": [
    "df_telecom.describe()"
   ]
  },
  {
   "cell_type": "code",
   "execution_count": null,
   "metadata": {},
   "outputs": [],
   "source": [
    "df_telecom['Contract'].astype('category').value_counts()"
   ]
  },
  {
   "cell_type": "code",
   "execution_count": null,
   "metadata": {},
   "outputs": [],
   "source": [
    "df_telecom.select_dtypes(include=['float64', 'int64'])"
   ]
  },
  {
   "cell_type": "code",
   "execution_count": null,
   "metadata": {},
   "outputs": [],
   "source": [
    "bin_cols=['PhoneService','PaperlessBilling','Churn','Partner','Dependents','MultipleLines',\n",
    "         'OnlineSecurity','OnlineBackup','DeviceProtection','TechSupport','StreamingTV' ,'StreamingMovies']\n",
    "cat_cols=['PaymentMethod','Contract','gender','InternetService']\n",
    "num_cols=['MonthlyCharges','TotalCharges','tenure','SeniorCitizen']\n",
    "\n",
    "df1=df_telecom[df_telecom['MultipleLines']== 'No phone service']\n",
    "df_telecom.loc[df1.index,'MultipleLines']='No'\n",
    "\n",
    "df_telecom[bin_cols]=df_telecom[bin_cols].apply(lambda s: s.map({'Yes':1 ,'No' :0}))\n",
    "\n",
    "df_telecom[bin_cols].head()\n",
    "\n",
    "\n"
   ]
  },
  {
   "cell_type": "code",
   "execution_count": null,
   "metadata": {},
   "outputs": [],
   "source": [
    "df_dummies= pd.get_dummies(df_telecom[cat_cols], drop_first=True)\n",
    "\n",
    "df_dummies.head()\n",
    "\n",
    "df_telecom[cat_cols].head()\n",
    "\n",
    "df_telecom= pd.concat([df_telecom,df_dummies], axis=1)\n",
    "df_telecom.head()"
   ]
  },
  {
   "cell_type": "code",
   "execution_count": null,
   "metadata": {},
   "outputs": [],
   "source": [
    "df_telecom=df_telecom.drop(cat_cols , axis=1)\n",
    "\n",
    "df_telecom.head()"
   ]
  },
  {
   "cell_type": "code",
   "execution_count": null,
   "metadata": {},
   "outputs": [],
   "source": [
    "df_telecom[num_cols]=df_telecom[num_cols].apply(pd.to_numeric, errors=\"ignore\")\n",
    "df_telecom['tenure'].isnull().sum()"
   ]
  },
  {
   "cell_type": "code",
   "execution_count": null,
   "metadata": {},
   "outputs": [],
   "source": [
    "df_telecom.info()"
   ]
  },
  {
   "cell_type": "code",
   "execution_count": null,
   "metadata": {},
   "outputs": [],
   "source": [
    "df_telecom.isnull().sum()"
   ]
  },
  {
   "cell_type": "code",
   "execution_count": null,
   "metadata": {},
   "outputs": [],
   "source": [
    "cols= list(df_telecom.columns[df_telecom.isnull().sum()>0])\n",
    "\n",
    "df_telecom[cols]=df_telecom[cols].fillna(0)\n",
    "\n",
    "df_telecom=df_telecom[~df_telecom['TotalCharges'].map(lambda a :  a if bool(a.strip()) else None ).isnull()]"
   ]
  },
  {
   "cell_type": "code",
   "execution_count": null,
   "metadata": {},
   "outputs": [],
   "source": [
    "#test train split\n",
    "\n",
    "\n",
    "x= df_telecom.drop(['customerID','Churn'],axis=1)\n",
    "y= df_telecom['Churn']\n",
    "\n",
    "x.head()\n"
   ]
  },
  {
   "cell_type": "code",
   "execution_count": null,
   "metadata": {},
   "outputs": [],
   "source": [
    "x_train,x_test,y_train,y_test= train_test_split(x,y,train_size=0.7)"
   ]
  },
  {
   "cell_type": "code",
   "execution_count": null,
   "metadata": {},
   "outputs": [],
   "source": [
    "\n",
    "scaler=StandardScaler()\n",
    "\n",
    "cols_scale=['tenure','MonthlyCharges','TotalCharges']\n",
    "x_train[cols_scale]= scaler.fit_transform(x_train[cols_scale])\n",
    "\n",
    "x_train.head()\n",
    "\n"
   ]
  },
  {
   "cell_type": "code",
   "execution_count": null,
   "metadata": {},
   "outputs": [],
   "source": [
    "#churn rate \n",
    "\n",
    "rate = sum(y_train )/ len(y_train)\n",
    "round(rate*100)"
   ]
  },
  {
   "cell_type": "code",
   "execution_count": null,
   "metadata": {},
   "outputs": [],
   "source": [
    "\n",
    "plt.figure(figsize=(20,20))\n",
    "sns.heatmap(df_telecom.corr(),annot=True)"
   ]
  },
  {
   "cell_type": "code",
   "execution_count": null,
   "metadata": {},
   "outputs": [],
   "source": [
    "#modeling \n",
    "\n",
    "\n",
    "logml = sm.GLM(y_train, sm.add_constant(x_train),family=sm.families.Binomial())\n",
    "m=logml.fit()\n",
    "m.summary()"
   ]
  },
  {
   "cell_type": "code",
   "execution_count": null,
   "metadata": {},
   "outputs": [],
   "source": [
    "\n",
    "lg= LogisticRegression()\n",
    "\n",
    "\n",
    "rfe=RFE(lg,15)\n",
    "rfe=rfe.fit(x_train, y_train)\n",
    "\n",
    "cols= x_train.columns[rfe.support_]"
   ]
  },
  {
   "cell_type": "code",
   "execution_count": null,
   "metadata": {},
   "outputs": [],
   "source": [
    "\n",
    "logml = sm.GLM(y_train, sm.add_constant(x_train[cols]),family=sm.families.Binomial())\n",
    "m=logml.fit()\n",
    "m.summary()"
   ]
  },
  {
   "cell_type": "code",
   "execution_count": null,
   "metadata": {},
   "outputs": [],
   "source": [
    "\n",
    "y_train_pred= m.predict(sm.add_constant(x_train[cols]))\n",
    "y_train_pred_result =y_train_pred.map(lambda s : 1 if s >0.6 else 0 )\n",
    "\n",
    "confusion = metrics.confusion_matrix(y_train,y_train_pred_result )\n",
    "\n",
    "metrics.accuracy_score(y_train,y_train_pred_result )\n",
    "\n",
    "#3250+693/ (3250+693+372+607)"
   ]
  },
  {
   "cell_type": "code",
   "execution_count": null,
   "metadata": {},
   "outputs": [],
   "source": [
    "confusion\n",
    "\n",
    "#Actual/ predict  NOT CHURN | CHURN\n",
    "#      NOT CHURN  True Neg.   False Pos.    \n",
    "#         CHURN   False Neg.  True Pos.\n",
    "\n",
    "TN=confusion[0][0]\n",
    "TP=confusion[1][1]\n",
    "FP=confusion[0][1]\n",
    "FN=confusion[1][0]\n",
    "\n",
    "\n",
    "TP_rate= TP / (TP+FN)\n",
    "FP_rate= FP / (FP+TN)\n",
    "\n",
    "print (TP_rate, FP_rate)"
   ]
  },
  {
   "cell_type": "code",
   "execution_count": null,
   "metadata": {},
   "outputs": [],
   "source": [
    "def draw_roc( actual, probs ):\n",
    "    fpr, tpr, thresholds = metrics.roc_curve( actual, probs,\n",
    "                                              drop_intermediate = False )\n",
    "    auc_score = metrics.roc_auc_score( actual, probs )\n",
    "    plt.figure(figsize=(5, 5))\n",
    "    plt.plot( fpr, tpr, label='ROC curve (area = %0.2f)' % auc_score )\n",
    "    plt.plot([0, 1], [0, 1], 'k--')\n",
    "    plt.xlim([0.0, 1.0])\n",
    "    plt.ylim([0.0, 1.05])\n",
    "    plt.xlabel('False Positive Rate or [1 - True Negative Rate]')\n",
    "    plt.ylabel('True Positive Rate')\n",
    "    plt.title('Receiver operating characteristic example')\n",
    "    plt.legend(loc=\"lower right\")\n",
    "    plt.show()\n",
    "\n",
    "    return None\n",
    "\n",
    "draw_roc(y_train,y_train_pred)"
   ]
  },
  {
   "cell_type": "code",
   "execution_count": null,
   "metadata": {},
   "outputs": [],
   "source": [
    "numbers= [n/10 for n in range(10)]\n",
    "for n in numbers:    \n",
    "    y_train_pred[n]= y_train_pred.map(lambda s: 1 if s >n else 0 ) \n",
    "    \n",
    "y_train_pred"
   ]
  },
  {
   "cell_type": "code",
   "execution_count": null,
   "metadata": {},
   "outputs": [],
   "source": [
    "\n",
    "\n",
    "\n",
    "\n",
    "\n",
    "cutoff_df = pd.DataFrame( columns = ['prob','accuracy','sensi','speci'])\n",
    "\n",
    "num = [0.0,0.1,0.2,0.3,0.4,0.5,0.6,0.7,0.8,0.9]\n",
    "for i in num:\n",
    "    cm1 = metrics.confusion_matrix(y_train, y_train_pred[i] )\n",
    "    total1=sum(sum(cm1))\n",
    "    accuracy = (cm1[0,0]+cm1[1,1])/total1\n",
    "    \n",
    "    speci = cm1[0,0]/(cm1[0,0]+cm1[0,1])\n",
    "    sensi = cm1[1,1]/(cm1[1,0]+cm1[1,1])\n",
    "    cutoff_df.loc[i] =[ i ,accuracy,sensi,speci]\n",
    "print(cutoff_df)"
   ]
  },
  {
   "cell_type": "code",
   "execution_count": 6,
   "metadata": {},
   "outputs": [
    {
     "name": "stdout",
     "output_type": "stream",
     "text": [
      "0\n",
      "1\n",
      "1\n",
      "2\n",
      "3\n",
      "5\n",
      "8\n",
      "13\n",
      "21\n"
     ]
    }
   ],
   "source": [
    "\n",
    "n=15\n",
    "\n",
    "def fab(f,s, max_val):\n",
    "    if(f==0 and s==0):\n",
    "        print(0)\n",
    "        f=1\n",
    "    else :\n",
    "        sum_= f+s\n",
    "        f=s\n",
    "        s=sum_\n",
    "        print(sum_)\n",
    "    \n",
    "    if(s< max_val):\n",
    "        fab(f,s,max_val)\n",
    "\n",
    "        \n",
    "fab(0,0,n)           \n",
    "            \n"
   ]
  }
 ],
 "metadata": {
  "kernelspec": {
   "display_name": "Python 3",
   "language": "python",
   "name": "python3"
  },
  "language_info": {
   "codemirror_mode": {
    "name": "ipython",
    "version": 3
   },
   "file_extension": ".py",
   "mimetype": "text/x-python",
   "name": "python",
   "nbconvert_exporter": "python",
   "pygments_lexer": "ipython3",
   "version": "3.7.6"
  }
 },
 "nbformat": 4,
 "nbformat_minor": 4
}
