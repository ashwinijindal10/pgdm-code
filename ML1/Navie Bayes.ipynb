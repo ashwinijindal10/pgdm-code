{
 "cells": [
  {
   "cell_type": "code",
   "execution_count": null,
   "metadata": {},
   "outputs": [],
   "source": [
    "import pandas as pd\n",
    "\n",
    "doc =pd.read_table('Data/Naive Bayes/SMSSpamCollection',header=None,names=['Class','sms'])\n",
    "\n",
    "doc.head()"
   ]
  },
  {
   "cell_type": "code",
   "execution_count": null,
   "metadata": {},
   "outputs": [],
   "source": [
    "print(doc.shape)\n",
    "print(doc.isnull().sum())\n",
    "print(doc.Class.value_counts())"
   ]
  },
  {
   "cell_type": "code",
   "execution_count": null,
   "metadata": {},
   "outputs": [],
   "source": [
    "doc['label']= doc.Class.map({'spam':1,'ham':0})\n",
    "\n",
    "vals=doc.label.value_counts()\n",
    "\n",
    "print('spam rate '+ str(round(vals[1]*100/(vals[0]+vals[1]),2)) + '% spam rate data quality')"
   ]
  },
  {
   "cell_type": "code",
   "execution_count": null,
   "metadata": {},
   "outputs": [],
   "source": [
    "X= doc.sms\n",
    "Y= doc.label\n",
    "\n",
    "from sklearn.model_selection import train_test_split\n",
    "X_train,X_test,Y_train,Y_test= train_test_split(X,Y, random_state=1)"
   ]
  },
  {
   "cell_type": "code",
   "execution_count": null,
   "metadata": {},
   "outputs": [],
   "source": [
    "from sklearn.feature_extraction.text import CountVectorizer\n",
    "vec= CountVectorizer(stop_words='english')"
   ]
  },
  {
   "cell_type": "code",
   "execution_count": null,
   "metadata": {},
   "outputs": [],
   "source": [
    "vec.fit(X_train)"
   ]
  },
  {
   "cell_type": "code",
   "execution_count": null,
   "metadata": {},
   "outputs": [],
   "source": [
    "len(vec.vocabulary_.keys())\n",
    "\n",
    "X_train_transformed= vec.transform(X_train)\n",
    "X_test_transformed= vec.transform(X_test)\n",
    "print(X_train_transformed)"
   ]
  },
  {
   "cell_type": "code",
   "execution_count": 57,
   "metadata": {},
   "outputs": [],
   "source": [
    "#building models \n",
    "\n",
    "from sklearn.naive_bayes import MultinomialNB\n",
    "from sklearn import metrics\n",
    "\n",
    "\n",
    "mb= MultinomialNB()\n",
    "\n",
    "#fit \n",
    "mb.fit(X_train_transformed, Y_train)\n",
    "\n",
    "y_pred_class= mb.predict(X_test_transformed)\n",
    "y_pred_prob= mb.predict_proba(X_test_transformed)\n",
    "\n"
   ]
  },
  {
   "cell_type": "code",
   "execution_count": 65,
   "metadata": {},
   "outputs": [
    {
     "name": "stdout",
     "output_type": "stream",
     "text": [
      "0.9877961234745154\n",
      "[[1201    7]\n",
      " [  10  175]]\n"
     ]
    }
   ],
   "source": [
    "print(metrics.accuracy_score(Y_test,y_pred_class))\n",
    "\n",
    "cm=metrics.confusion_matrix(Y_test,y_pred_class)\n",
    "print(cm)\n",
    "\n"
   ]
  },
  {
   "cell_type": "code",
   "execution_count": 71,
   "metadata": {},
   "outputs": [
    {
     "name": "stdout",
     "output_type": "stream",
     "text": [
      "sensitivity =0.9459459459459459\n",
      "specificity =0.9942052980132451\n",
      "precision =0.9615384615384616\n",
      "precision =0.9615384615384616\n",
      "recall =0.9459459459459459\n"
     ]
    }
   ],
   "source": [
    "TP = cm[1][1] \n",
    "TN = cm[0][0]\n",
    "FP = cm[0][1] \n",
    "FN = cm[1][0]\n",
    "\n",
    "\n",
    "print('sensitivity =' +str(TP/ (TP+ FN)))\n",
    "print('specificity =' +str(TN/ (TN+ FP)))\n",
    "print('precision =' +str(TP/ (TP+ FP)))\n",
    "print('precision =' +str(metrics.precision_score(Y_test,y_pred_class)))\n",
    "print('recall =' +str(metrics.recall_score(Y_test,y_pred_class)))"
   ]
  },
  {
   "cell_type": "code",
   "execution_count": 91,
   "metadata": {},
   "outputs": [
    {
     "name": "stdout",
     "output_type": "stream",
     "text": [
      "  (0, 6987)\t2\n"
     ]
    },
    {
     "data": {
      "text/plain": [
       "array([0.05799109, 0.94200891])"
      ]
     },
     "execution_count": 91,
     "metadata": {},
     "output_type": "execute_result"
    }
   ],
   "source": [
    "X1_test= ['win win ahswini']\n",
    "\n",
    "X1_test_trans=vec.transform(X1_test)\n",
    "print(X1_test_trans)\n",
    "\n",
    "s=mb.predict_proba(X1_test_trans)\n",
    "\n",
    "s[0]\n"
   ]
  }
 ],
 "metadata": {
  "kernelspec": {
   "display_name": "Python 3",
   "language": "python",
   "name": "python3"
  },
  "language_info": {
   "codemirror_mode": {
    "name": "ipython",
    "version": 3
   },
   "file_extension": ".py",
   "mimetype": "text/x-python",
   "name": "python",
   "nbconvert_exporter": "python",
   "pygments_lexer": "ipython3",
   "version": "3.7.6"
  }
 },
 "nbformat": 4,
 "nbformat_minor": 4
}
