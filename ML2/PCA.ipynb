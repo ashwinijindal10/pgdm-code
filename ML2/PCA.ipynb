{
 "cells": [
  {
   "cell_type": "code",
   "execution_count": null,
   "metadata": {},
   "outputs": [],
   "source": [
    "import numpy as np\n",
    "\n",
    "x_val = np.array([1,2])\n",
    "y_val = np.array([2,2])\n",
    "\n",
    "x,y = 5,6\n",
    "\n",
    "print(x*x_val + y* y_val)\n",
    "\n",
    "#coliner vector 1,2  2,2 are  possible to vectorized 1.x+2.y =17, 2.x+ 2.y=22 where x=5, y =6"
   ]
  },
  {
   "cell_type": "code",
   "execution_count": null,
   "metadata": {},
   "outputs": [],
   "source": [
    "rs= np.array([17,22])\n",
    "\n",
    "set_vec = np.array([[1,0],[1,0]])\n",
    "\n",
    "print(np.linalg.solve(set_vec,rs))\n",
    "\n",
    "#coliner vector  1,0  2,0 are not possible to vectorized 1.x+2.y =17, 0+ 0.y=22"
   ]
  },
  {
   "cell_type": "code",
   "execution_count": null,
   "metadata": {},
   "outputs": [],
   "source": [
    "rs= np.array([19,29,54])\n",
    "\n",
    "set_vec = np.array([[1,2,3],[1,2,6],[4,5,6]])\n",
    "\n",
    "print(np.linalg.solve(set_vec,rs))\n"
   ]
  },
  {
   "cell_type": "code",
   "execution_count": 16,
   "metadata": {},
   "outputs": [
    {
     "name": "stdout",
     "output_type": "stream",
     "text": [
      "(array([ 3., -1.]), array([[ 0.70710678, -0.70710678],\n",
      "       [ 0.70710678,  0.70710678]]))\n",
      "[ 3. -1.] [[ 0.70710678 -0.70710678]\n",
      " [ 0.70710678  0.70710678]]\n"
     ]
    }
   ],
   "source": [
    "#EIGEN VECROR AND matrics\n",
    "\n",
    "A= np.array([[1,2],[2,1]])\n",
    "\n",
    "val=np.linalg.eig(A)\n",
    "print(val)\n",
    "L=val[0]\n",
    "V=val[1]\n",
    "print(L,V)"
   ]
  },
  {
   "cell_type": "code",
   "execution_count": 22,
   "metadata": {},
   "outputs": [
    {
     "data": {
      "text/plain": [
       "array([2.12132034, 2.12132034])"
      ]
     },
     "execution_count": 22,
     "metadata": {},
     "output_type": "execute_result"
    }
   ],
   "source": [
    "#A.V= lenbda * V\n",
    "\n",
    "A @ V.T [0]"
   ]
  },
  {
   "cell_type": "code",
   "execution_count": 31,
   "metadata": {},
   "outputs": [
    {
     "name": "stdout",
     "output_type": "stream",
     "text": [
      "[[-0.58 -0.79  0.21]\n",
      " [-0.58  0.21 -0.79]\n",
      " [-0.58  0.58  0.58]]\n"
     ]
    }
   ],
   "source": [
    "A= np.array([[1,2,3],[2,3,1],[3,1,2]])\n",
    "val=np.linalg.eig(A.T)\n",
    "print(np.round(val[1],2))"
   ]
  }
 ],
 "metadata": {
  "kernelspec": {
   "display_name": "Python 3",
   "language": "python",
   "name": "python3"
  },
  "language_info": {
   "codemirror_mode": {
    "name": "ipython",
    "version": 3
   },
   "file_extension": ".py",
   "mimetype": "text/x-python",
   "name": "python",
   "nbconvert_exporter": "python",
   "pygments_lexer": "ipython3",
   "version": "3.7.6"
  }
 },
 "nbformat": 4,
 "nbformat_minor": 4
}
