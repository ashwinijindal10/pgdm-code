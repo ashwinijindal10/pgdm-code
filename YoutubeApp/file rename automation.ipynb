{
 "cells": [
  {
   "cell_type": "code",
   "execution_count": null,
   "metadata": {},
   "outputs": [],
   "source": [
    "import os\n",
    "import pandas as pd\n",
    "\n",
    "src_path=r\"C:\\Users\\Ashwini\\Downloads\\PGDM\\Video\\Course 1 (Statistics Essential)\\M-3 (Inferential Statistics)\"\n",
    "\n",
    "data = [ { 'full_path' : os.path.join(path, file) ,'path':path, 'file_name':file}  for path, subdirs, files in os.walk(src_path) for file in files]\n",
    "\n",
    "\n",
    "for f in data:\n",
    "    new_name='-'.join(  map(str.strip,os.path.splitext(f[\"file_name\"])[0].rsplit('-',1)[::-1]))+'.ts'\n",
    "    full_new_name=os.path.join(f[\"path\"], new_name)\n",
    "    print(new_name,\" \",f[\"file_name\"])\n",
    "    os.rename(f[\"full_path\"],full_new_name) "
   ]
  },
  {
   "cell_type": "code",
   "execution_count": 5,
   "metadata": {},
   "outputs": [
    {
     "name": "stdout",
     "output_type": "stream",
     "text": [
      "[]\n"
     ]
    }
   ],
   "source": [
    "import requests, bs4 ,pandas as pd\n",
    "from urllib3.util.retry import Retry\n",
    "from requests.adapters import HTTPAdapter\n",
    "\n",
    "\n",
    "\n",
    "url ='https://learn.upgrad.com/v/course/329/module/18232'\n",
    "req= requests.get(url)\n",
    "data= bs4.BeautifulSoup(req.text,'html5lib')\n",
    "listitems= data.select('.session-name')\n",
    "#titles =[item.select_one('.w3l-movie-text a').get_text() for item in listitems]\n",
    "#urls = [item.select_one('.w3l-movie-text a').get('href') for item in listitems]\n",
    "print(listitems)\n"
   ]
  }
 ],
 "metadata": {
  "kernelspec": {
   "display_name": "Python 3",
   "language": "python",
   "name": "python3"
  },
  "language_info": {
   "codemirror_mode": {
    "name": "ipython",
    "version": 3
   },
   "file_extension": ".py",
   "mimetype": "text/x-python",
   "name": "python",
   "nbconvert_exporter": "python",
   "pygments_lexer": "ipython3",
   "version": "3.7.6"
  }
 },
 "nbformat": 4,
 "nbformat_minor": 4
}
