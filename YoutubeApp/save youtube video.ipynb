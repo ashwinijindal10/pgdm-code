{
 "cells": [
  {
   "cell_type": "code",
   "execution_count": null,
   "metadata": {},
   "outputs": [],
   "source": [
    "from googleapiclient.http import MediaFileUpload\n",
    "\n",
    "\n",
    "def upload_video(youtube,file_path):\n",
    "    request = youtube.videos().insert(\n",
    "        part=\"snippet,status\",\n",
    "        body={\n",
    "          \"snippet\": {\n",
    "            \"categoryId\" :27, #education\n",
    "            \"tags\": \"Machine Learning and AI,API call\", \n",
    "            \"description\": \"\",\n",
    "            \"title\": \"Test video upload.\"\n",
    "          },\n",
    "          \"status\": {\n",
    "            \"privacyStatus\": \"Unlisted\"\n",
    "          }\n",
    "        },\n",
    "        \n",
    "        \n",
    "        media_body=MediaFileUpload(file_path)\n",
    "    )\n",
    "    response = request.execute()\n",
    "    \n",
    "    if response is not None and 'id' in response:\n",
    "          print(\"Video id {0} was successfully uploaded.\".format(response['id']))\n",
    "    else:\n",
    "        print(\"The upload failed with an unexpected response: \"+  file_path)\n",
    "        \n",
    "    #print(response)\n",
    "    #https://developers.google.com/youtube/v3/guides/uploading_a_video\n",
    "\n",
    "#path=r\"C:\\Users\\Ashwini\\Downloads\\PGDM\\Video\\Course 1\\M-1 (Intro)\\Graphical Models-278020.ts\"\n",
    "#upload_video(youtube,path)"
   ]
  }
 ],
 "metadata": {
  "kernelspec": {
   "display_name": "Python 3",
   "language": "python",
   "name": "python3"
  },
  "language_info": {
   "codemirror_mode": {
    "name": "ipython",
    "version": 3
   },
   "file_extension": ".py",
   "mimetype": "text/x-python",
   "name": "python",
   "nbconvert_exporter": "python",
   "pygments_lexer": "ipython3",
   "version": "3.7.6"
  }
 },
 "nbformat": 4,
 "nbformat_minor": 4
}
