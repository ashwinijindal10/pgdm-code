{
 "cells": [
  {
   "cell_type": "code",
   "execution_count": null,
   "metadata": {},
   "outputs": [],
   "source": [
    "from apiclient.discovery import build\n",
    "from google_auth_oauthlib.flow import InstalledAppFlow\n",
    "\n",
    "CLIENT_SECRET_FILE = 'client_secret.json'\n",
    "SCOPES = ['https://www.googleapis.com/auth/youtube.force-ssl']\n",
    "\n",
    "flow = InstalledAppFlow.from_client_secrets_file(CLIENT_SECRET_FILE, SCOPES)\n",
    "credentials = flow.run_console()\n",
    "youtube = build('youtube', 'v3', credentials=credentials)\n",
    "\n",
    "\n",
    "#https://www.youtube.com/channel/UCC5hntNsVE7rQRYqqv_ON0g/\n"
   ]
  },
  {
   "cell_type": "code",
   "execution_count": null,
   "metadata": {},
   "outputs": [],
   "source": [
    "import pandas as pd\n",
    "\n",
    "def show_playlist():\n",
    "    request = youtube.playlists().list(\n",
    "            part=\"snippet,contentDetails\",\n",
    "            mine=True,\n",
    "            maxResults=50,\n",
    "        )\n",
    "    response = request.execute()\n",
    "    v=[{ 'id': item['id'], 'title': item['snippet']['title'] ,'count': item[\"contentDetails\"][\"itemCount\"]} for item in response['items']]\n",
    "    print(v)\n",
    "    return v\n",
    "    \n",
    "\n",
    "def show_videolist_bypage(token):\n",
    "    request = youtube.search().list(\n",
    "        part=\"snippet\",\n",
    "        forMine=True,\n",
    "        type=\"video\",\n",
    "        maxResults=50,\n",
    "        order=\"date\",\n",
    "        pageToken=token\n",
    "    )\n",
    "    response = request.execute()\n",
    "    #print(response)\n",
    "    return response\n",
    "\n",
    "def show_videolist():\n",
    "    data =pd.DataFrame()\n",
    "    count =0\n",
    "    size=50\n",
    "    max=1\n",
    "    nextPageToken =None\n",
    "    while(count*size <= max) :\n",
    "        rs=show_videolist_bypage(nextPageToken)\n",
    "        max=int(rs['pageInfo']['totalResults'])\n",
    "        nextPageToken= rs['nextPageToken']\n",
    "        val=[{'id':d['id']['videoId'], 'title' :d['snippet']['title'] }  for d in rs['items']] \n",
    "        print(len(val),max,nextPageToken)\n",
    "        data=data.append(val)\n",
    "        count+=1\n",
    "    \n",
    "    return data\n",
    "\n",
    "def create_playlist(youtube, title):\n",
    "    request = youtube.playlists().insert(\n",
    "        part=\"snippet,status\",\n",
    "        body={\n",
    "          \"snippet\": {\n",
    "            \"title\": \"ML & AI |\" + title,\n",
    "            \"description\": \"ML & AI |\" + title,\n",
    "            \"tags\": [\n",
    "              \"ML,AI \"          \n",
    "            ],\n",
    "            \"defaultLanguage\": \"en\"\n",
    "          },\n",
    "          \"status\": {\n",
    "            \"privacyStatus\": \"Unlisted\"\n",
    "          }\n",
    "        }\n",
    "    )\n",
    "    response = request.execute()\n",
    "    if(response is not None and 'id' in response) :\n",
    "        print(\"playlist added successfully with id :{0}\".format(response[\"id\"]))\n",
    "    else:\n",
    "          print(\"failed to create playlist \")\n",
    "          print(response)\n",
    "        \n",
    "def add_playlist_item(youtube,playlist_id, playlist_item_id):\n",
    "    request = youtube.playlistItems().insert(\n",
    "        part=\"snippet\",\n",
    "        body={\n",
    "          \"snippet\": {\n",
    "            \"playlistId\": playlist_id,\n",
    "            \"position\": 0,\n",
    "            \"resourceId\": {\n",
    "              \"kind\": \"youtube#video\",\n",
    "              \"videoId\": playlist_item_id\n",
    "            }\n",
    "          }\n",
    "        }\n",
    "    )\n",
    "    response = request.execute()\n",
    "    print(response)\n",
    "\n",
    "def delete_playlist(playlist_id):\n",
    "     request =  youtube.playlists().delete(id=playlist_id)\n",
    "     response = request.execute()\n",
    "     print(response)\n",
    "        "
   ]
  },
  {
   "cell_type": "code",
   "execution_count": 12,
   "metadata": {},
   "outputs": [
    {
     "name": "stdout",
     "output_type": "stream",
     "text": [
      "50 281 Cib3_sLbW_____85UGtzM1pxNmRiWQD_Af_-OVBrczNacTZkYlkAARAyIQVwDsDzTq1QOQAAAACkJD0BSAFQAloLCZJZP-HYunVREANg-cb14wc=\n",
      "50 281 Cib3_sGFC_____9aN3FSLTJDS3B3dwD_Af_-WjdxUi0yQ0twd3cAARBkIQVwDsDzTq1QOQAAAAD0ej4BSAFQAloLCZJZP-HYunVREANg-cb14wc=\n",
      "50 281 Cib3_sGB-P____9MYkwzWVU0dHpKUQD_Af_-TGJMM1lVNHR6SlEAARCWASEFcA7A806tUDkAAAAAB34-AUgBUAJaCwmSWT_h2Lp1URADYPnG9eMH\n",
      "50 281 Cib3_r-d5P____9zQnRsRGlCbDVOYwD_Af_-c0J0bERpQmw1TmMAARDIASEFcA7A806tUDkAAAAAG2JAAUgBUAJaCwmSWT_h2Lp1URADYPnG9eMH\n",
      "50 281 Cib3_r-aIP____9PV2k5QlFFVlhGawD_Af_-T1dpOUJRRVZYRmsAARD6ASEFcA7A806tUDkAAAAA32VAAUgCUAJaCwmSWT_h2Lp1URADYPnG9eMH\n",
      "31 281 Cib3_r-Ylf____9LSEJKZUFoVW5VMAD_Af_-S0hCSmVBaFVuVTAAARCZAiEFcA7A806tUDkAAAAAamdAAUgBUAJaCwmSWT_h2Lp1URADYPnG9eMH\n"
     ]
    },
    {
     "data": {
      "text/plain": [
       "281"
      ]
     },
     "execution_count": 12,
     "metadata": {},
     "output_type": "execute_result"
    }
   ],
   "source": [
    "##video listing\n",
    "#rs= show_videolist()\n",
    "#rs.to_csv('youtube_videlist.csv')\n",
    "#len(rs)\n",
    "#add videolist item\n",
    "#add_playlist_item(youtube,\"PL9tQy71sPLeHoB-g1H08J1hR8ZsXWzz7Z\",\"05yT5rR-XsM\")\n",
    "\n",
    "#show playlists\n",
    "#rs= show_playlist()\n",
    "\n",
    "#create playlist\n",
    "\n",
    "#create_playlist(youtube,\"\")\n",
    "\n",
    "#delete_playlist()\n",
    "\n"
   ]
  },
  {
   "cell_type": "code",
   "execution_count": 55,
   "metadata": {},
   "outputs": [],
   "source": [
    "import os\n",
    "import pandas as pd\n",
    "\n",
    "def get_video_files(fullpath):\n",
    "    filter_extension=\".ts\"\n",
    "    data = [ { 'playlist' : '|'.join(path.split('\\\\')[6:]) , 'file_name':os.path.splitext(file)[0],  \"path\" : path}  for path, subdirs, files in os.walk(fullpath) for file in files if file.endswith(filter_extension)]\n",
    "    df= pd.DataFrame(data)\n",
    "    return df\n",
    "\n",
    "def create_playlist_data(fullpath):\n",
    "    df =get_video_files(fullpath)\n",
    "    return groups.groups.keys()"
   ]
  },
  {
   "cell_type": "code",
   "execution_count": 58,
   "metadata": {},
   "outputs": [],
   "source": [
    "\n",
    "df=get_video_files(r\"C:\\Users\\Ashwini\\Downloads\\PGDM\\Video\")\n",
    "#df\n",
    "df.to_csv('dir_file_status.csv')\n",
    "    \n",
    "#dt=create_playlist_data(r\"C:\\Users\\Ashwini\\Downloads\\PGDM\\Video\")\n",
    "\n",
    "#for g in dt:\n",
    "#    print(g)\n",
    "    #create_playlist(youtube,g)\n",
    "#print(len(dt))\n"
   ]
  },
  {
   "cell_type": "code",
   "execution_count": null,
   "metadata": {},
   "outputs": [],
   "source": [
    "#show_playlist(youtube)"
   ]
  },
  {
   "cell_type": "code",
   "execution_count": null,
   "metadata": {},
   "outputs": [],
   "source": [
    "from googleapiclient.http import MediaFileUpload\n",
    "\n",
    "\n",
    "def upload_video(youtube,file_path):\n",
    "    request = youtube.videos().insert(\n",
    "        part=\"snippet,status\",\n",
    "        body={\n",
    "          \"snippet\": {\n",
    "            \"categoryId\" :27, #education\n",
    "            \"tags\": \"Machine Learning and AI,API call\", \n",
    "            \"description\": \"\",\n",
    "            \"title\": \"Test video upload.\"\n",
    "          },\n",
    "          \"status\": {\n",
    "            \"privacyStatus\": \"Unlisted\"\n",
    "          }\n",
    "        },\n",
    "        \n",
    "        \n",
    "        media_body=MediaFileUpload(file_path)\n",
    "    )\n",
    "    response = request.execute()\n",
    "    \n",
    "    if response is not None and 'id' in response:\n",
    "          print(\"Video id {0} was successfully uploaded.\".format(response['id']))\n",
    "    else:\n",
    "        print(\"The upload failed with an unexpected response: \"+  file_path)\n",
    "        \n",
    "    #print(response)\n",
    "    #https://developers.google.com/youtube/v3/guides/uploading_a_video"
   ]
  },
  {
   "cell_type": "code",
   "execution_count": null,
   "metadata": {},
   "outputs": [],
   "source": [
    "path=r\"C:\\Users\\Ashwini\\Downloads\\PGDM\\Video\\Course 1\\M-1 (Intro)\\Graphical Models-278020.ts\"\n",
    "\n",
    "#upload_video(youtube,path)"
   ]
  },
  {
   "cell_type": "code",
   "execution_count": 62,
   "metadata": {},
   "outputs": [
    {
     "name": "stdout",
     "output_type": "stream",
     "text": [
      "196 281\n"
     ]
    }
   ],
   "source": [
    "import pandas as pd\n",
    "\n",
    "file_status = pd.read_csv('dir_file_status.csv')\n",
    "youtube_videlist = pd.read_csv('youtube_videlist.csv')\n",
    "\n",
    "del file_status['path'],file_status['playlist']\n",
    "\n",
    "file_status['file_name']= file_status['file_name'] \\\n",
    ".str.replace('-',' ').str.replace('(','').str.replace(')','').str.replace('.',' ')\n",
    "\n",
    "\n",
    "print(len(file_status['file_name']),len(youtube_videlist['title']))\n",
    "\n",
    "rs1=file_status.merge(youtube_videlist,left_on='file_name', right_on='title', how='left')\n",
    "\n",
    "#rs1.to_csv('result.csv')\n",
    "\n",
    "#file_status['file_name']==youtube_videlist['title']\n",
    "\n",
    "rs1[rs1['id'].isnull()].to_csv('not_uploaded.csv')\n"
   ]
  },
  {
   "cell_type": "code",
   "execution_count": null,
   "metadata": {},
   "outputs": [],
   "source": []
  },
  {
   "cell_type": "code",
   "execution_count": null,
   "metadata": {},
   "outputs": [],
   "source": []
  }
 ],
 "metadata": {
  "kernelspec": {
   "display_name": "Python 3",
   "language": "python",
   "name": "python3"
  },
  "language_info": {
   "codemirror_mode": {
    "name": "ipython",
    "version": 3
   },
   "file_extension": ".py",
   "mimetype": "text/x-python",
   "name": "python",
   "nbconvert_exporter": "python",
   "pygments_lexer": "ipython3",
   "version": "3.7.6"
  }
 },
 "nbformat": 4,
 "nbformat_minor": 4
}
